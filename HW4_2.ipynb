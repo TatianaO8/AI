{
  "nbformat": 4,
  "nbformat_minor": 0,
  "metadata": {
    "colab": {
      "name": "HW4_2.ipynb",
      "provenance": [],
      "collapsed_sections": [],
      "authorship_tag": "ABX9TyNS1MweJft8TIIeXxBXYF1d",
      "include_colab_link": true
    },
    "kernelspec": {
      "name": "python3",
      "display_name": "Python 3"
    }
  },
  "cells": [
    {
      "cell_type": "markdown",
      "metadata": {
        "id": "view-in-github",
        "colab_type": "text"
      },
      "source": [
        "<a href=\"https://colab.research.google.com/github/TatianaO8/AI/blob/master/HW4_2.ipynb\" target=\"_parent\"><img src=\"https://colab.research.google.com/assets/colab-badge.svg\" alt=\"Open In Colab\"/></a>"
      ]
    },
    {
      "cell_type": "markdown",
      "metadata": {
        "id": "lkZfr2cSIMBP",
        "colab_type": "text"
      },
      "source": [
        "# Homework 4 Problem 2"
      ]
    },
    {
      "cell_type": "markdown",
      "metadata": {
        "id": "EeIvF6TZIZgC",
        "colab_type": "text"
      },
      "source": [
        "Using only numpy, implement the function maxpooling2d. It takes as input input_mat and s and outputs output_mat. The variables input_mat and output_mat are square matrices and s is an integer. It should compute the maxpooling operation on input_mat using window of shape s times s."
      ]
    },
    {
      "cell_type": "code",
      "metadata": {
        "id": "K-OdWop6IJJI",
        "colab_type": "code",
        "colab": {}
      },
      "source": [
        "import numpy as np\n",
        "\n",
        "def maxpooling2d(input_mat, s):\n",
        "  m = input_mat.shape[0]\n",
        "\n",
        "  if s > m:\n",
        "    raise Exception('Invalid maxpooling inputs. s is larger than the input_matrix size.')\n",
        "  \n",
        "  n = int(m/s)\n",
        "  output_mat = np.zeros((n,n))\n",
        "\n",
        "  for i in np.arange(n):\n",
        "    for j in np.arange(n):\n",
        "      output_mat[i][j] = input_mat[i*s][j*s]\n",
        "      for r in np.arange(s):\n",
        "        for p in np.arange(s): \n",
        "          output_mat[i][j] = max(output_mat[i][j], input_mat[r+i*s][p+j*s])\n",
        "  \n",
        "  return output_mat"
      ],
      "execution_count": 0,
      "outputs": []
    },
    {
      "cell_type": "markdown",
      "metadata": {
        "id": "YkBzNRH0Fkak",
        "colab_type": "text"
      },
      "source": [
        "# Testing some of my own cases\n"
      ]
    },
    {
      "cell_type": "code",
      "metadata": {
        "id": "Xraz3X5EFnGd",
        "colab_type": "code",
        "colab": {
          "base_uri": "https://localhost:8080/",
          "height": 317
        },
        "outputId": "8fb6114f-a15a-4976-b999-930dff2c094b"
      },
      "source": [
        "# Throw an exception if s > input_mat size\n",
        "\n",
        "input_mat = np.random.rand(3,3)\n",
        "s = 5\n",
        "\n",
        "output_mat = maxpooling2d(input_mat, s)"
      ],
      "execution_count": 12,
      "outputs": [
        {
          "output_type": "error",
          "ename": "Exception",
          "evalue": "ignored",
          "traceback": [
            "\u001b[0;31m---------------------------------------------------------------------------\u001b[0m",
            "\u001b[0;31mException\u001b[0m                                 Traceback (most recent call last)",
            "\u001b[0;32m<ipython-input-12-82d3d789e007>\u001b[0m in \u001b[0;36m<module>\u001b[0;34m()\u001b[0m\n\u001b[1;32m      3\u001b[0m \u001b[0ms\u001b[0m \u001b[0;34m=\u001b[0m \u001b[0;36m5\u001b[0m\u001b[0;34m\u001b[0m\u001b[0;34m\u001b[0m\u001b[0m\n\u001b[1;32m      4\u001b[0m \u001b[0;34m\u001b[0m\u001b[0m\n\u001b[0;32m----> 5\u001b[0;31m \u001b[0moutput_mat\u001b[0m \u001b[0;34m=\u001b[0m \u001b[0mmaxpooling2d\u001b[0m\u001b[0;34m(\u001b[0m\u001b[0minput_mat\u001b[0m\u001b[0;34m,\u001b[0m \u001b[0ms\u001b[0m\u001b[0;34m)\u001b[0m\u001b[0;34m\u001b[0m\u001b[0;34m\u001b[0m\u001b[0m\n\u001b[0m",
            "\u001b[0;32m<ipython-input-11-02f64b54e090>\u001b[0m in \u001b[0;36mmaxpooling2d\u001b[0;34m(input_mat, s)\u001b[0m\n\u001b[1;32m      5\u001b[0m \u001b[0;34m\u001b[0m\u001b[0m\n\u001b[1;32m      6\u001b[0m   \u001b[0;32mif\u001b[0m \u001b[0ms\u001b[0m \u001b[0;34m>\u001b[0m \u001b[0mm\u001b[0m\u001b[0;34m:\u001b[0m\u001b[0;34m\u001b[0m\u001b[0;34m\u001b[0m\u001b[0m\n\u001b[0;32m----> 7\u001b[0;31m     \u001b[0;32mraise\u001b[0m \u001b[0mException\u001b[0m\u001b[0;34m(\u001b[0m\u001b[0;34m'Invalid maxpooling inputs. s is larger than the input_matrix size.'\u001b[0m\u001b[0;34m)\u001b[0m\u001b[0;34m\u001b[0m\u001b[0;34m\u001b[0m\u001b[0m\n\u001b[0m\u001b[1;32m      8\u001b[0m \u001b[0;34m\u001b[0m\u001b[0m\n\u001b[1;32m      9\u001b[0m   \u001b[0mn\u001b[0m \u001b[0;34m=\u001b[0m \u001b[0mint\u001b[0m\u001b[0;34m(\u001b[0m\u001b[0mm\u001b[0m\u001b[0;34m/\u001b[0m\u001b[0ms\u001b[0m\u001b[0;34m)\u001b[0m\u001b[0;34m\u001b[0m\u001b[0;34m\u001b[0m\u001b[0m\n",
            "\u001b[0;31mException\u001b[0m: Invalid maxpooling inputs. s is larger than the input_matrix size."
          ]
        }
      ]
    },
    {
      "cell_type": "code",
      "metadata": {
        "id": "OL654gJVHoBL",
        "colab_type": "code",
        "colab": {
          "base_uri": "https://localhost:8080/",
          "height": 221
        },
        "outputId": "5b80afc1-a6ef-4efa-ef6f-4f5697189dd4"
      },
      "source": [
        "# Make sure proper padding is being used\n",
        "\n",
        "input_mat = np.random.rand(5,5)\n",
        "s = 2\n",
        "output_mat = maxpooling2d(input_mat, s)\n",
        "\n",
        "print(\"Input Matrix\\n\")\n",
        "print(input_mat)\n",
        "\n",
        "print(\"\\nOutput Matrix\\n\")\n",
        "print(output_mat)\n",
        "\n",
        "\n"
      ],
      "execution_count": 13,
      "outputs": [
        {
          "output_type": "stream",
          "text": [
            "Input Matrix\n",
            "\n",
            "[[0.44096043 0.15207888 0.73986526 0.13939079 0.48192007]\n",
            " [0.61453799 0.76946117 0.69174068 0.69717942 0.44333853]\n",
            " [0.32847673 0.61453923 0.12979949 0.91857544 0.72967603]\n",
            " [0.29006581 0.18393076 0.63413741 0.52067901 0.132976  ]\n",
            " [0.37560076 0.9789152  0.40288729 0.9076666  0.31041422]]\n",
            "\n",
            "Output Matrix\n",
            "\n",
            "[[0.76946117 0.73986526]\n",
            " [0.61453923 0.91857544]]\n"
          ],
          "name": "stdout"
        }
      ]
    },
    {
      "cell_type": "markdown",
      "metadata": {
        "id": "j5ElcEQfLv9J",
        "colab_type": "text"
      },
      "source": [
        "## Testing"
      ]
    },
    {
      "cell_type": "code",
      "metadata": {
        "id": "0xJAFztYLxCK",
        "colab_type": "code",
        "colab": {}
      },
      "source": [
        "import skimage.measure\n",
        "\n",
        "input_mat = []\n",
        "expected_mat = []\n",
        "s = []\n",
        "input_mat.append(np.array([[1, 2, 1, 2],\n",
        "                      [2, 4, 2, 1],\n",
        "                      [1, 2, 4, 2],\n",
        "                      [2, 1, 2, 1]]))\n",
        "s.append(2)\n",
        "\n",
        "expected_mat.append(np.array([[4, 2],\n",
        "                                [2, 4]]))\n",
        "\n",
        "input_mat.append(np.array([[1, 2, 1, 2, 4, 5],\n",
        "                      [2, 4, 2, 1, 0, 3],\n",
        "                      [1, 2, 4, 2, 4, 5],\n",
        "                      [2, 1, 2, 1, 2, 1],\n",
        "                      [1, 1, 2, 3, 1, 2]]))\n",
        "s.append(2)\n",
        "\n",
        "expected_mat.append([[4, 2, 5],\n",
        " [2, 4, 5],\n",
        " [1, 3, 2]])\n",
        "\n",
        "\n",
        "for i in range(len(input_mat)):\n",
        "  # uncomment top line and comment second line to test code\n",
        "  output_mat = maxpooling2d(input_mat[i], s[i])\n",
        "  output_mat = skimage.measure.block_reduce(input_mat[i], (s[i],s[i]), np.max)\n",
        "\n",
        "  print(output_mat)\n",
        "\n",
        "  if np.array_equal(output_mat, expected_mat[i]):\n",
        "    print(\"Correct output!\")\n",
        "  else:\n",
        "    print(\"Incorrect output!\")"
      ],
      "execution_count": 0,
      "outputs": []
    }
  ]
}