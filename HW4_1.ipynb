{
  "nbformat": 4,
  "nbformat_minor": 0,
  "metadata": {
    "colab": {
      "name": "HW4_1.ipynb",
      "provenance": [],
      "collapsed_sections": [],
      "authorship_tag": "ABX9TyNPfyJKLVvTNruSD4VvdQJC",
      "include_colab_link": true
    },
    "kernelspec": {
      "name": "python3",
      "display_name": "Python 3"
    }
  },
  "cells": [
    {
      "cell_type": "markdown",
      "metadata": {
        "id": "view-in-github",
        "colab_type": "text"
      },
      "source": [
        "<a href=\"https://colab.research.google.com/github/TatianaO8/AI/blob/master/HW4_1.ipynb\" target=\"_parent\"><img src=\"https://colab.research.google.com/assets/colab-badge.svg\" alt=\"Open In Colab\"/></a>"
      ]
    },
    {
      "cell_type": "markdown",
      "metadata": {
        "id": "9UPaOfio79yb",
        "colab_type": "text"
      },
      "source": [
        "#Homework 4 Problem 1"
      ]
    },
    {
      "cell_type": "markdown",
      "metadata": {
        "id": "9g5IFtpgEIxw",
        "colab_type": "text"
      },
      "source": [
        "## Problem 1\n",
        "Using only numpy, implement the function conv2d. It takes as input input_mat and kernel_mat and outputs output_mat. All variables are square matrices. It should compute the convolution of input_mat with the kernel kernel_mat using valid padding.\n",
        "\n",
        "Note that the size s of the kernel matrix can also be an even number.\n",
        "\n"
      ]
    },
    {
      "cell_type": "code",
      "metadata": {
        "id": "TDYypy-sZh08",
        "colab_type": "code",
        "colab": {}
      },
      "source": [
        "import numpy as np\n",
        "\n",
        "def conv2d(input_mat, kernel_mat):\n",
        "  s = kernel_mat.shape[0]\n",
        "  m = input_mat.shape[0]\n",
        "\n",
        "  # Check for invalid convolution\n",
        "  if s > m:\n",
        "    raise Exception('Invalid convolution inputs. The kernel matrix size is greater than the input matrix size.')\n",
        "\n",
        "  # Calculate the size of the output matrix\n",
        "  n = m - s + 1\n",
        "\n",
        "  # Create an empty output matrix\n",
        "  output_mat = np.zeros((n,n))\n",
        "  \n",
        "  for i in np.arange(n):\n",
        "    for j in np.arange(n):\n",
        "      for r in np.arange(s):\n",
        "        for p in np.arange(s): \n",
        "          output_mat[i][j] += kernel_mat[r][p] * input_mat[i+r][j+p]\n",
        "  \n",
        "\n",
        "  return output_mat"
      ],
      "execution_count": 0,
      "outputs": []
    },
    {
      "cell_type": "markdown",
      "metadata": {
        "id": "V_BJ62g081Fe",
        "colab_type": "text"
      },
      "source": [
        "## Testing\n",
        "\n",
        "The professor mentioned some cases and what the output should be\n",
        "1. Kernel of 1 by 1 with the value 1 should output the same matrix as the input\n",
        "2. Kernel of s x s with 0's except with a 1 in the middle should result with an output matrix equal to input matrix with outer cells trimmed away\n",
        "3. Make sure an exception is thrown when it's an invalid convolution\n",
        "4. Make sure the right output matrix results when using an even kernel"
      ]
    },
    {
      "cell_type": "code",
      "metadata": {
        "id": "fCFROi4r83CK",
        "colab_type": "code",
        "outputId": "44f622c8-3c7b-4af7-9864-0c3168871286",
        "colab": {
          "base_uri": "https://localhost:8080/",
          "height": 34
        }
      },
      "source": [
        "# 1\n",
        "\n",
        "input_mat = np.random.rand(3,3)\n",
        "kernel_mat = np.array([[1]])\n",
        "output_mat = conv2d(input_mat, kernel_mat)\n",
        "\n",
        "\n",
        "if np.array_equal(output_mat, input_mat):\n",
        "  print(\"Correct output!\")\n",
        "else:\n",
        "  print(\"Incorrect output! :(\")\n"
      ],
      "execution_count": 24,
      "outputs": [
        {
          "output_type": "stream",
          "text": [
            "Correct output!\n"
          ],
          "name": "stdout"
        }
      ]
    },
    {
      "cell_type": "code",
      "metadata": {
        "id": "1HnONeP3CWdS",
        "colab_type": "code",
        "outputId": "ece26c2e-0e9f-4a5c-8813-e30431b05ed3",
        "colab": {
          "base_uri": "https://localhost:8080/",
          "height": 493
        }
      },
      "source": [
        "# 2\n",
        "\n",
        "input_mat = np.random.rand(3,3)\n",
        "kernel_mat = np.array([[0,0,0], [0,1,0], [0,0,0]])\n",
        "output_mat = conv2d(input_mat, kernel_mat)\n",
        "\n",
        "print(\"Input Matrix\\n\")\n",
        "print(input_mat)\n",
        "\n",
        "print(\"\\nOutput Matrix\\n\")\n",
        "print(output_mat)\n",
        "\n",
        "print(\"\\n------------------------------------\\n\")\n",
        "\n",
        "input_mat = np.random.rand(6,6)\n",
        "kernel_mat = np.array([[0,0,0], [0,1,0], [0,0,0]])\n",
        "output_mat = conv2d(input_mat, kernel_mat)\n",
        "\n",
        "print(\"\\nInput Matrix\\n\")\n",
        "print(input_mat)\n",
        "\n",
        "print(\"\\nOutput Matrix\\n\")\n",
        "print(output_mat)\n",
        "\n",
        "# As you can see below, the input matrix gets trimmed and that is the output matrix"
      ],
      "execution_count": 25,
      "outputs": [
        {
          "output_type": "stream",
          "text": [
            "Input Matrix\n",
            "\n",
            "[[0.57702806 0.88127725 0.40856339]\n",
            " [0.26188931 0.1335019  0.85951477]\n",
            " [0.66853553 0.32880108 0.85955845]]\n",
            "\n",
            "Output Matrix\n",
            "\n",
            "[[0.1335019]]\n",
            "\n",
            "------------------------------------\n",
            "\n",
            "\n",
            "Input Matrix\n",
            "\n",
            "[[0.2175549  0.65878923 0.95959043 0.89573399 0.97075242 0.93084114]\n",
            " [0.79462536 0.55394525 0.60313548 0.39426307 0.63913831 0.85387883]\n",
            " [0.34173391 0.35237521 0.86646663 0.0589829  0.72357094 0.84498866]\n",
            " [0.83340451 0.87126933 0.33007616 0.86897728 0.4053273  0.61000083]\n",
            " [0.63287258 0.04078242 0.55685895 0.10797319 0.76748193 0.0779456 ]\n",
            " [0.29742166 0.88636529 0.32358832 0.0777869  0.48792365 0.80551556]]\n",
            "\n",
            "Output Matrix\n",
            "\n",
            "[[0.55394525 0.60313548 0.39426307 0.63913831]\n",
            " [0.35237521 0.86646663 0.0589829  0.72357094]\n",
            " [0.87126933 0.33007616 0.86897728 0.4053273 ]\n",
            " [0.04078242 0.55685895 0.10797319 0.76748193]]\n"
          ],
          "name": "stdout"
        }
      ]
    },
    {
      "cell_type": "code",
      "metadata": {
        "id": "b82SFWuoDiI3",
        "colab_type": "code",
        "outputId": "f9765a45-2b08-4ebf-c3bb-98adcd5b9ce4",
        "colab": {
          "base_uri": "https://localhost:8080/",
          "height": 351
        }
      },
      "source": [
        "# 3\n",
        "\n",
        "input_mat = np.random.rand(2,2)\n",
        "kernel_mat = np.array([[0,0,0], [0,1,0], [0,0,0]])\n",
        "output_mat = conv2d(input_mat, kernel_mat)\n",
        "\n",
        "# As you can see, an exception is thrown because the kernel matrix size is 3 x 3 while the input matrix is smaller with a size of 2 x 2"
      ],
      "execution_count": 26,
      "outputs": [
        {
          "output_type": "error",
          "ename": "Exception",
          "evalue": "ignored",
          "traceback": [
            "\u001b[0;31m---------------------------------------------------------------------------\u001b[0m",
            "\u001b[0;31mException\u001b[0m                                 Traceback (most recent call last)",
            "\u001b[0;32m<ipython-input-26-f591d6cc5088>\u001b[0m in \u001b[0;36m<module>\u001b[0;34m()\u001b[0m\n\u001b[1;32m      2\u001b[0m \u001b[0minput_mat\u001b[0m \u001b[0;34m=\u001b[0m \u001b[0mnp\u001b[0m\u001b[0;34m.\u001b[0m\u001b[0mrandom\u001b[0m\u001b[0;34m.\u001b[0m\u001b[0mrand\u001b[0m\u001b[0;34m(\u001b[0m\u001b[0;36m2\u001b[0m\u001b[0;34m,\u001b[0m\u001b[0;36m2\u001b[0m\u001b[0;34m)\u001b[0m\u001b[0;34m\u001b[0m\u001b[0;34m\u001b[0m\u001b[0m\n\u001b[1;32m      3\u001b[0m \u001b[0mkernel_mat\u001b[0m \u001b[0;34m=\u001b[0m \u001b[0mnp\u001b[0m\u001b[0;34m.\u001b[0m\u001b[0marray\u001b[0m\u001b[0;34m(\u001b[0m\u001b[0;34m[\u001b[0m\u001b[0;34m[\u001b[0m\u001b[0;36m0\u001b[0m\u001b[0;34m,\u001b[0m\u001b[0;36m0\u001b[0m\u001b[0;34m,\u001b[0m\u001b[0;36m0\u001b[0m\u001b[0;34m]\u001b[0m\u001b[0;34m,\u001b[0m \u001b[0;34m[\u001b[0m\u001b[0;36m0\u001b[0m\u001b[0;34m,\u001b[0m\u001b[0;36m1\u001b[0m\u001b[0;34m,\u001b[0m\u001b[0;36m0\u001b[0m\u001b[0;34m]\u001b[0m\u001b[0;34m,\u001b[0m \u001b[0;34m[\u001b[0m\u001b[0;36m0\u001b[0m\u001b[0;34m,\u001b[0m\u001b[0;36m0\u001b[0m\u001b[0;34m,\u001b[0m\u001b[0;36m0\u001b[0m\u001b[0;34m]\u001b[0m\u001b[0;34m]\u001b[0m\u001b[0;34m)\u001b[0m\u001b[0;34m\u001b[0m\u001b[0;34m\u001b[0m\u001b[0m\n\u001b[0;32m----> 4\u001b[0;31m \u001b[0moutput_mat\u001b[0m \u001b[0;34m=\u001b[0m \u001b[0mconv2d\u001b[0m\u001b[0;34m(\u001b[0m\u001b[0minput_mat\u001b[0m\u001b[0;34m,\u001b[0m \u001b[0mkernel_mat\u001b[0m\u001b[0;34m)\u001b[0m\u001b[0;34m\u001b[0m\u001b[0;34m\u001b[0m\u001b[0m\n\u001b[0m\u001b[1;32m      5\u001b[0m \u001b[0;34m\u001b[0m\u001b[0m\n\u001b[1;32m      6\u001b[0m \u001b[0;31m# As you can see, an exception is thrown because the kernel matrix size is 3 x 3 while the input matrix is smaller with a size of 2 x 2\u001b[0m\u001b[0;34m\u001b[0m\u001b[0;34m\u001b[0m\u001b[0;34m\u001b[0m\u001b[0m\n",
            "\u001b[0;32m<ipython-input-23-94834aef658e>\u001b[0m in \u001b[0;36mconv2d\u001b[0;34m(input_mat, kernel_mat)\u001b[0m\n\u001b[1;32m      7\u001b[0m   \u001b[0;31m# Check for invalid convolution\u001b[0m\u001b[0;34m\u001b[0m\u001b[0;34m\u001b[0m\u001b[0;34m\u001b[0m\u001b[0m\n\u001b[1;32m      8\u001b[0m   \u001b[0;32mif\u001b[0m \u001b[0ms\u001b[0m \u001b[0;34m>\u001b[0m \u001b[0mm\u001b[0m\u001b[0;34m:\u001b[0m\u001b[0;34m\u001b[0m\u001b[0;34m\u001b[0m\u001b[0m\n\u001b[0;32m----> 9\u001b[0;31m     \u001b[0;32mraise\u001b[0m \u001b[0mException\u001b[0m\u001b[0;34m(\u001b[0m\u001b[0;34m'Invalid convolution inputs. The kernel matrix size is greater than the input matrix size.'\u001b[0m\u001b[0;34m)\u001b[0m\u001b[0;34m\u001b[0m\u001b[0;34m\u001b[0m\u001b[0m\n\u001b[0m\u001b[1;32m     10\u001b[0m \u001b[0;34m\u001b[0m\u001b[0m\n\u001b[1;32m     11\u001b[0m   \u001b[0;31m# Calculate the size of the output matrix\u001b[0m\u001b[0;34m\u001b[0m\u001b[0;34m\u001b[0m\u001b[0;34m\u001b[0m\u001b[0m\n",
            "\u001b[0;31mException\u001b[0m: Invalid convolution inputs. The kernel matrix size is greater than the input matrix size."
          ]
        }
      ]
    },
    {
      "cell_type": "code",
      "metadata": {
        "id": "abH-FoMID2pi",
        "colab_type": "code",
        "colab": {
          "base_uri": "https://localhost:8080/",
          "height": 255
        },
        "outputId": "291cf85b-64ea-45c9-fa04-0e96d03ad56e"
      },
      "source": [
        "# 4 \n",
        "\n",
        "input_mat = np.random.rand(5,5)\n",
        "kernel_mat = np.array([[1,1], [1,1]])\n",
        "output_mat = conv2d(input_mat, kernel_mat)\n",
        "\n",
        "print(\"Input Matrix\\n\")\n",
        "print(input_mat)\n",
        "\n",
        "print(\"\\nOutput Matrix\\n\")\n",
        "print(output_mat)\n",
        "\n",
        "# You can see that convolution worked even with an even sized kernel matrix"
      ],
      "execution_count": 27,
      "outputs": [
        {
          "output_type": "stream",
          "text": [
            "Input Matrix\n",
            "\n",
            "[[0.74862637 0.52283679 0.18023369 0.09253727 0.29645662]\n",
            " [0.25803059 0.63901587 0.07771157 0.93428078 0.41436647]\n",
            " [0.75440089 0.49423677 0.70836894 0.66401919 0.63907497]\n",
            " [0.47135403 0.13325464 0.35648182 0.27166765 0.11043526]\n",
            " [0.28292043 0.87815542 0.54054661 0.08716474 0.15401587]]\n",
            "\n",
            "Output Matrix\n",
            "\n",
            "[[2.16850962 1.41979793 1.28476331 1.73764113]\n",
            " [2.14568412 1.91933315 2.38438048 2.65174141]\n",
            " [1.85324632 1.69234217 2.0005376  1.68519707]\n",
            " [1.76568452 1.90843849 1.25586081 0.62328351]]\n"
          ],
          "name": "stdout"
        }
      ]
    },
    {
      "cell_type": "markdown",
      "metadata": {
        "id": "gBnvpoDlGy3J",
        "colab_type": "text"
      },
      "source": [
        "## Testing"
      ]
    },
    {
      "cell_type": "code",
      "metadata": {
        "id": "M7v6PLFLGzA1",
        "colab_type": "code",
        "colab": {
          "base_uri": "https://localhost:8080/",
          "height": 657
        },
        "outputId": "c13c8ed8-e43e-47bd-c63b-99c70f411091"
      },
      "source": [
        "from scipy import signal\n",
        "import numpy as np\n",
        "\n",
        "input_mat = []\n",
        "kernel_mat = []\n",
        "expected_mat = []\n",
        "\n",
        "# test case 1\n",
        "input_mat.append(np.array([[1, 2, 1, 2],\n",
        "                      [2, 1, 2, 1],\n",
        "                      [1, 2, 1, 2],\n",
        "                      [2, 1, 2, 1]]))\n",
        "\n",
        "kernel_mat.append(np.array([[1, 0],\n",
        "                       [0, 1]]))\n",
        "\n",
        "expected_mat.append(np.array([[2, 4, 2],\n",
        "                                [4, 2, 4],\n",
        "                                [2, 4, 2]]))\n",
        "\n",
        "# test case 2\n",
        "input_mat.append(np.array([[1, 0, 0, 0],\n",
        "                      [0, 1, 0, 0],\n",
        "                      [0, 0, 1, 0],\n",
        "                      [0, 0, 0, 1]]))\n",
        "kernel_mat.append(np.array([[1, 0], [0, 1]]))\n",
        "expected_mat.append(np.array([[2, 0, 0], [0, 2, 0], [0, 0, 2]]))\n",
        "\n",
        "\n",
        "# test case 3\n",
        "input_mat.append(np.array([[1, 0, 0, 0],\n",
        "                      [0, 1, 0, 0],\n",
        "                      [0, 0, 1, 0],\n",
        "                      [0, 0, 0, 1]]))\n",
        "kernel_mat.append(np.array([[1, -1],\n",
        "                       [-1, 0]]))\n",
        "\n",
        "expected_mat.append(np.array([[ 1, -1,  0], [-1,  1, -1],[ 0, -1,  1]]))\n",
        "\n",
        "\n",
        "# test case 4\n",
        "input_mat.append(np.array([[1, 0, 0, 0],\n",
        "                      [0, 1, 0, 0],\n",
        "                      [0, 0, 1, 0],\n",
        "                      [0, 0, 0, 1]]))\n",
        "kernel_mat.append(np.array([[1, 0, 0, 0],\n",
        "                      [0, 1, 0, 0],\n",
        "                      [0, 0, 1, 0],\n",
        "                      [0, 0, 0, 1]]))\n",
        "\n",
        "expected_mat.append(np.array([[4]]))\n",
        "\n",
        "\n",
        "# test case 5 - should either through an error, or return empty matrix\n",
        "input_mat.append(np.array([[1, -1],\n",
        "                       [-1, 0]]))\n",
        "kernel_mat.append(np.array([[1, 0, 0, 0],\n",
        "                      [0, 1, 0, 0],\n",
        "                      [0, 0, 1, 0],\n",
        "                      [0, 0, 0, 1]]))\n",
        "\n",
        "expected_mat.append([])\n",
        "\n",
        "\n",
        "\n",
        "for i in range(len(input_mat)):\n",
        "  # uncomment line for student code testing\n",
        "  output_mat = conv2d(input_mat[i], kernel_mat[i])\n",
        "\n",
        "  # uncomment lines below (and comment line above) for generating test cases.\n",
        "  if input_mat[i].shape[0] < kernel_mat[i].shape[0]:\n",
        "    output_mat = []\n",
        "  else:\n",
        "    output_mat = signal.convolve2d(input_mat[i], kernel_mat[i], mode='valid')\n",
        "\n",
        "  print(output_mat)\n",
        "  if np.array_equal(output_mat, expected_mat[i]):\n",
        "    print(\"Correct output!\\n\")\n",
        "  else:\n",
        "    print(\"Incorrect output!\\n\")"
      ],
      "execution_count": 28,
      "outputs": [
        {
          "output_type": "stream",
          "text": [
            "[[2 4 2]\n",
            " [4 2 4]\n",
            " [2 4 2]]\n",
            "Correct output!\n",
            "\n",
            "[[2 0 0]\n",
            " [0 2 0]\n",
            " [0 0 2]]\n",
            "Correct output!\n",
            "\n",
            "[[ 1 -1  0]\n",
            " [-1  1 -1]\n",
            " [ 0 -1  1]]\n",
            "Correct output!\n",
            "\n",
            "[[4]]\n",
            "Correct output!\n",
            "\n"
          ],
          "name": "stdout"
        },
        {
          "output_type": "error",
          "ename": "Exception",
          "evalue": "ignored",
          "traceback": [
            "\u001b[0;31m---------------------------------------------------------------------------\u001b[0m",
            "\u001b[0;31mException\u001b[0m                                 Traceback (most recent call last)",
            "\u001b[0;32m<ipython-input-28-46ab1514dd8a>\u001b[0m in \u001b[0;36m<module>\u001b[0;34m()\u001b[0m\n\u001b[1;32m     66\u001b[0m \u001b[0;32mfor\u001b[0m \u001b[0mi\u001b[0m \u001b[0;32min\u001b[0m \u001b[0mrange\u001b[0m\u001b[0;34m(\u001b[0m\u001b[0mlen\u001b[0m\u001b[0;34m(\u001b[0m\u001b[0minput_mat\u001b[0m\u001b[0;34m)\u001b[0m\u001b[0;34m)\u001b[0m\u001b[0;34m:\u001b[0m\u001b[0;34m\u001b[0m\u001b[0;34m\u001b[0m\u001b[0m\n\u001b[1;32m     67\u001b[0m   \u001b[0;31m# uncomment line for student code testing\u001b[0m\u001b[0;34m\u001b[0m\u001b[0;34m\u001b[0m\u001b[0;34m\u001b[0m\u001b[0m\n\u001b[0;32m---> 68\u001b[0;31m   \u001b[0moutput_mat\u001b[0m \u001b[0;34m=\u001b[0m \u001b[0mconv2d\u001b[0m\u001b[0;34m(\u001b[0m\u001b[0minput_mat\u001b[0m\u001b[0;34m[\u001b[0m\u001b[0mi\u001b[0m\u001b[0;34m]\u001b[0m\u001b[0;34m,\u001b[0m \u001b[0mkernel_mat\u001b[0m\u001b[0;34m[\u001b[0m\u001b[0mi\u001b[0m\u001b[0;34m]\u001b[0m\u001b[0;34m)\u001b[0m\u001b[0;34m\u001b[0m\u001b[0;34m\u001b[0m\u001b[0m\n\u001b[0m\u001b[1;32m     69\u001b[0m \u001b[0;34m\u001b[0m\u001b[0m\n\u001b[1;32m     70\u001b[0m   \u001b[0;31m# uncomment lines below (and comment line above) for generating test cases.\u001b[0m\u001b[0;34m\u001b[0m\u001b[0;34m\u001b[0m\u001b[0;34m\u001b[0m\u001b[0m\n",
            "\u001b[0;32m<ipython-input-23-94834aef658e>\u001b[0m in \u001b[0;36mconv2d\u001b[0;34m(input_mat, kernel_mat)\u001b[0m\n\u001b[1;32m      7\u001b[0m   \u001b[0;31m# Check for invalid convolution\u001b[0m\u001b[0;34m\u001b[0m\u001b[0;34m\u001b[0m\u001b[0;34m\u001b[0m\u001b[0m\n\u001b[1;32m      8\u001b[0m   \u001b[0;32mif\u001b[0m \u001b[0ms\u001b[0m \u001b[0;34m>\u001b[0m \u001b[0mm\u001b[0m\u001b[0;34m:\u001b[0m\u001b[0;34m\u001b[0m\u001b[0;34m\u001b[0m\u001b[0m\n\u001b[0;32m----> 9\u001b[0;31m     \u001b[0;32mraise\u001b[0m \u001b[0mException\u001b[0m\u001b[0;34m(\u001b[0m\u001b[0;34m'Invalid convolution inputs. The kernel matrix size is greater than the input matrix size.'\u001b[0m\u001b[0;34m)\u001b[0m\u001b[0;34m\u001b[0m\u001b[0;34m\u001b[0m\u001b[0m\n\u001b[0m\u001b[1;32m     10\u001b[0m \u001b[0;34m\u001b[0m\u001b[0m\n\u001b[1;32m     11\u001b[0m   \u001b[0;31m# Calculate the size of the output matrix\u001b[0m\u001b[0;34m\u001b[0m\u001b[0;34m\u001b[0m\u001b[0;34m\u001b[0m\u001b[0m\n",
            "\u001b[0;31mException\u001b[0m: Invalid convolution inputs. The kernel matrix size is greater than the input matrix size."
          ]
        }
      ]
    }
  ]
}