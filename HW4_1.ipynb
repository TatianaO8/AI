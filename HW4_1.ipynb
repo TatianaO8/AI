{
  "nbformat": 4,
  "nbformat_minor": 0,
  "metadata": {
    "colab": {
      "name": "HW4_1.ipynb",
      "provenance": [],
      "collapsed_sections": [],
      "authorship_tag": "ABX9TyOV87zPhX70/+VCnK4vsQEK",
      "include_colab_link": true
    },
    "kernelspec": {
      "name": "python3",
      "display_name": "Python 3"
    }
  },
  "cells": [
    {
      "cell_type": "markdown",
      "metadata": {
        "id": "view-in-github",
        "colab_type": "text"
      },
      "source": [
        "<a href=\"https://colab.research.google.com/github/TatianaO8/AI/blob/master/HW4_1.ipynb\" target=\"_parent\"><img src=\"https://colab.research.google.com/assets/colab-badge.svg\" alt=\"Open In Colab\"/></a>"
      ]
    },
    {
      "cell_type": "markdown",
      "metadata": {
        "id": "9UPaOfio79yb",
        "colab_type": "text"
      },
      "source": [
        "#Homework 4 Problem 1"
      ]
    },
    {
      "cell_type": "markdown",
      "metadata": {
        "id": "9g5IFtpgEIxw",
        "colab_type": "text"
      },
      "source": [
        "## Problem 1\n",
        "Using only numpy, implement the function conv2d. It takes as input input_mat and kernel_mat and outputs output_mat. All variables are square matrices. It should compute the convolution of input_mat with the kernel kernel_mat using valid padding.\n",
        "\n",
        "Note that the size s of the kernel matrix can also be an even number.\n",
        "\n"
      ]
    },
    {
      "cell_type": "code",
      "metadata": {
        "id": "TDYypy-sZh08",
        "colab_type": "code",
        "colab": {}
      },
      "source": [
        "import numpy as np\n",
        "\n",
        "def conv2d(input_mat, kernel_mat):\n",
        "  s = kernel_mat.shape[0]\n",
        "  m = input_mat.shape[0]\n",
        "\n",
        "  # Check for invalid convolution\n",
        "  if s > m:\n",
        "    raise Exception('Invalid convolution inputs. The kernel matrix size is greater than the input matrix size.')\n",
        "\n",
        "  # Calculate the size of the output matrix\n",
        "  n = m - s + 1\n",
        "\n",
        "  # Create an empty output matrix\n",
        "  output_mat = np.zeros((n,n))\n",
        "  \n",
        "  for i in np.arange(n):\n",
        "    for j in np.arange(n):\n",
        "      for r in np.arange(s):\n",
        "        for p in np.arange(s): \n",
        "          output_mat[i][j] += kernel_mat[r][p] * input_mat[i+r][j+p]\n",
        "  \n",
        "\n",
        "  return output_mat"
      ],
      "execution_count": 0,
      "outputs": []
    },
    {
      "cell_type": "markdown",
      "metadata": {
        "id": "V_BJ62g081Fe",
        "colab_type": "text"
      },
      "source": [
        "## Testing\n",
        "\n",
        "The professor mentioned some cases and what the output should be\n",
        "1. Kernel of 1 by 1 with the value 1 should output the same matrix as the input\n",
        "2. Kernel of s x s with 0's except with a 1 in the middle should result with an output matrix equal to input matrix with outer cells trimmed away\n",
        "3. Make sure an exception is thrown when it's an invalid convolution\n",
        "4. Make sure the right output matrix results when using an even kernel"
      ]
    },
    {
      "cell_type": "code",
      "metadata": {
        "id": "fCFROi4r83CK",
        "colab_type": "code",
        "colab": {
          "base_uri": "https://localhost:8080/",
          "height": 34
        },
        "outputId": "9f7c6b76-6c71-44a5-97c0-5d30378df1e8"
      },
      "source": [
        "# 1\n",
        "\n",
        "input_mat = np.random.rand(3,3)\n",
        "kernel_mat = np.array([[1]])\n",
        "output_mat = conv2d(input_mat, kernel_mat)\n",
        "\n",
        "\n",
        "if np.array_equal(output_mat, input_mat):\n",
        "  print(\"Correct output!\")\n",
        "else:\n",
        "  print(\"Incorrect output! :(\")\n"
      ],
      "execution_count": 14,
      "outputs": [
        {
          "output_type": "stream",
          "text": [
            "Correct output!\n"
          ],
          "name": "stdout"
        }
      ]
    },
    {
      "cell_type": "code",
      "metadata": {
        "id": "1HnONeP3CWdS",
        "colab_type": "code",
        "colab": {
          "base_uri": "https://localhost:8080/",
          "height": 442
        },
        "outputId": "59dadbe3-9ef2-4339-b57e-19faa1e45725"
      },
      "source": [
        "# 2\n",
        "\n",
        "input_mat = np.random.rand(3,3)\n",
        "kernel_mat = np.array([[0,0,0], [0,1,0], [0,0,0]])\n",
        "output_mat = conv2d(input_mat, kernel_mat)\n",
        "\n",
        "print(\"Input Matrix\\n\")\n",
        "print(input_mat)\n",
        "\n",
        "print(\"\\nOutput Matrix\\n\")\n",
        "print(output_mat)\n",
        "\n",
        "input_mat = np.random.rand(6,6)\n",
        "kernel_mat = np.array([[0,0,0], [0,1,0], [0,0,0]])\n",
        "output_mat = conv2d(input_mat, kernel_mat)\n",
        "\n",
        "print(\"\\nInput Matrix\\n\")\n",
        "print(input_mat)\n",
        "\n",
        "print(\"\\nOutput Matrix\\n\")\n",
        "print(output_mat)\n",
        "\n",
        "# As you can see below, the input matrix gets trimmed and that is the output matrix"
      ],
      "execution_count": 15,
      "outputs": [
        {
          "output_type": "stream",
          "text": [
            "Input Matrix\n",
            "\n",
            "[[0.48398631 0.48334279 0.58176169]\n",
            " [0.24700409 0.69374287 0.27244027]\n",
            " [0.09950009 0.01905212 0.49754813]]\n",
            "\n",
            "Output Matrix\n",
            "\n",
            "[[0.69374287]]\n",
            "\n",
            "Input Matrix\n",
            "\n",
            "[[0.90125012 0.24038628 0.05752808 0.86384842 0.4152957  0.99998967]\n",
            " [0.87561278 0.14684133 0.61432424 0.45912927 0.07066193 0.97531471]\n",
            " [0.42179598 0.27306458 0.88660822 0.48795779 0.99767296 0.13466443]\n",
            " [0.39943725 0.50346898 0.54313958 0.67206906 0.85494954 0.38470589]\n",
            " [0.34142616 0.93409759 0.58984004 0.86340105 0.98866674 0.01583276]\n",
            " [0.01458724 0.71055738 0.47263297 0.47905429 0.6619808  0.45743167]]\n",
            "\n",
            "Output Matrix\n",
            "\n",
            "[[0.14684133 0.61432424 0.45912927 0.07066193]\n",
            " [0.27306458 0.88660822 0.48795779 0.99767296]\n",
            " [0.50346898 0.54313958 0.67206906 0.85494954]\n",
            " [0.93409759 0.58984004 0.86340105 0.98866674]]\n"
          ],
          "name": "stdout"
        }
      ]
    },
    {
      "cell_type": "code",
      "metadata": {
        "id": "b82SFWuoDiI3",
        "colab_type": "code",
        "colab": {
          "base_uri": "https://localhost:8080/",
          "height": 351
        },
        "outputId": "40ef4dee-a306-4849-93f5-18779ad9dabf"
      },
      "source": [
        "# 3\n",
        "\n",
        "input_mat = np.random.rand(2,2)\n",
        "kernel_mat = np.array([[0,0,0], [0,1,0], [0,0,0]])\n",
        "output_mat = conv2d(input_mat, kernel_mat)\n",
        "\n",
        "# As you can see, an exception is thrown because the kernel matrix size is 3 x 3 while the input matrix is smaller with a size of 2 x 2"
      ],
      "execution_count": 16,
      "outputs": [
        {
          "output_type": "error",
          "ename": "Exception",
          "evalue": "ignored",
          "traceback": [
            "\u001b[0;31m---------------------------------------------------------------------------\u001b[0m",
            "\u001b[0;31mException\u001b[0m                                 Traceback (most recent call last)",
            "\u001b[0;32m<ipython-input-16-f591d6cc5088>\u001b[0m in \u001b[0;36m<module>\u001b[0;34m()\u001b[0m\n\u001b[1;32m      2\u001b[0m \u001b[0minput_mat\u001b[0m \u001b[0;34m=\u001b[0m \u001b[0mnp\u001b[0m\u001b[0;34m.\u001b[0m\u001b[0mrandom\u001b[0m\u001b[0;34m.\u001b[0m\u001b[0mrand\u001b[0m\u001b[0;34m(\u001b[0m\u001b[0;36m2\u001b[0m\u001b[0;34m,\u001b[0m\u001b[0;36m2\u001b[0m\u001b[0;34m)\u001b[0m\u001b[0;34m\u001b[0m\u001b[0;34m\u001b[0m\u001b[0m\n\u001b[1;32m      3\u001b[0m \u001b[0mkernel_mat\u001b[0m \u001b[0;34m=\u001b[0m \u001b[0mnp\u001b[0m\u001b[0;34m.\u001b[0m\u001b[0marray\u001b[0m\u001b[0;34m(\u001b[0m\u001b[0;34m[\u001b[0m\u001b[0;34m[\u001b[0m\u001b[0;36m0\u001b[0m\u001b[0;34m,\u001b[0m\u001b[0;36m0\u001b[0m\u001b[0;34m,\u001b[0m\u001b[0;36m0\u001b[0m\u001b[0;34m]\u001b[0m\u001b[0;34m,\u001b[0m \u001b[0;34m[\u001b[0m\u001b[0;36m0\u001b[0m\u001b[0;34m,\u001b[0m\u001b[0;36m1\u001b[0m\u001b[0;34m,\u001b[0m\u001b[0;36m0\u001b[0m\u001b[0;34m]\u001b[0m\u001b[0;34m,\u001b[0m \u001b[0;34m[\u001b[0m\u001b[0;36m0\u001b[0m\u001b[0;34m,\u001b[0m\u001b[0;36m0\u001b[0m\u001b[0;34m,\u001b[0m\u001b[0;36m0\u001b[0m\u001b[0;34m]\u001b[0m\u001b[0;34m]\u001b[0m\u001b[0;34m)\u001b[0m\u001b[0;34m\u001b[0m\u001b[0;34m\u001b[0m\u001b[0m\n\u001b[0;32m----> 4\u001b[0;31m \u001b[0moutput_mat\u001b[0m \u001b[0;34m=\u001b[0m \u001b[0mconv2d\u001b[0m\u001b[0;34m(\u001b[0m\u001b[0minput_mat\u001b[0m\u001b[0;34m,\u001b[0m \u001b[0mkernel_mat\u001b[0m\u001b[0;34m)\u001b[0m\u001b[0;34m\u001b[0m\u001b[0;34m\u001b[0m\u001b[0m\n\u001b[0m\u001b[1;32m      5\u001b[0m \u001b[0;34m\u001b[0m\u001b[0m\n\u001b[1;32m      6\u001b[0m \u001b[0;31m# As you can see, an exception is thrown because the kernel matrix size is 3 x 3 while the input matrix is smaller with a size of 2 x 2\u001b[0m\u001b[0;34m\u001b[0m\u001b[0;34m\u001b[0m\u001b[0;34m\u001b[0m\u001b[0m\n",
            "\u001b[0;32m<ipython-input-13-94834aef658e>\u001b[0m in \u001b[0;36mconv2d\u001b[0;34m(input_mat, kernel_mat)\u001b[0m\n\u001b[1;32m      7\u001b[0m   \u001b[0;31m# Check for invalid convolution\u001b[0m\u001b[0;34m\u001b[0m\u001b[0;34m\u001b[0m\u001b[0;34m\u001b[0m\u001b[0m\n\u001b[1;32m      8\u001b[0m   \u001b[0;32mif\u001b[0m \u001b[0ms\u001b[0m \u001b[0;34m>\u001b[0m \u001b[0mm\u001b[0m\u001b[0;34m:\u001b[0m\u001b[0;34m\u001b[0m\u001b[0;34m\u001b[0m\u001b[0m\n\u001b[0;32m----> 9\u001b[0;31m     \u001b[0;32mraise\u001b[0m \u001b[0mException\u001b[0m\u001b[0;34m(\u001b[0m\u001b[0;34m'Invalid convolution inputs. The kernel matrix size is greater than the input matrix size.'\u001b[0m\u001b[0;34m)\u001b[0m\u001b[0;34m\u001b[0m\u001b[0;34m\u001b[0m\u001b[0m\n\u001b[0m\u001b[1;32m     10\u001b[0m \u001b[0;34m\u001b[0m\u001b[0m\n\u001b[1;32m     11\u001b[0m   \u001b[0;31m# Calculate the size of the output matrix\u001b[0m\u001b[0;34m\u001b[0m\u001b[0;34m\u001b[0m\u001b[0;34m\u001b[0m\u001b[0m\n",
            "\u001b[0;31mException\u001b[0m: Invalid convolution inputs. The kernel matrix size is greater than the input matrix size."
          ]
        }
      ]
    },
    {
      "cell_type": "code",
      "metadata": {
        "id": "abH-FoMID2pi",
        "colab_type": "code",
        "colab": {}
      },
      "source": [
        "# 4 \n",
        "\n",
        "input_mat = np.random.rand(5,5)\n",
        "kernel_mat = np.array([[1,1], [1,1]])\n",
        "output_mat = conv2d(input_mat, kernel_mat)\n",
        "\n",
        "print(\"Input Matrix\\n\")\n",
        "print(input_mat)\n",
        "\n",
        "print(\"\\nOutput Matrix\\n\")\n",
        "print(output_mat)\n",
        "\n",
        "# You can see that convolution worked even with an even sized kernel matrix"
      ],
      "execution_count": 0,
      "outputs": []
    },
    {
      "cell_type": "markdown",
      "metadata": {
        "id": "gBnvpoDlGy3J",
        "colab_type": "text"
      },
      "source": [
        "## Testing"
      ]
    },
    {
      "cell_type": "code",
      "metadata": {
        "id": "M7v6PLFLGzA1",
        "colab_type": "code",
        "colab": {}
      },
      "source": [
        "from scipy import signal\n",
        "import numpy as np\n",
        "\n",
        "input_mat = []\n",
        "kernel_mat = []\n",
        "expected_mat = []\n",
        "\n",
        "# test case 1\n",
        "input_mat.append(np.array([[1, 2, 1, 2],\n",
        "                      [2, 1, 2, 1],\n",
        "                      [1, 2, 1, 2],\n",
        "                      [2, 1, 2, 1]]))\n",
        "\n",
        "kernel_mat.append(np.array([[1, 0],\n",
        "                       [0, 1]]))\n",
        "\n",
        "expected_mat.append(np.array([[2, 4, 2],\n",
        "                                [4, 2, 4],\n",
        "                                [2, 4, 2]]))\n",
        "\n",
        "# test case 2\n",
        "input_mat.append(np.array([[1, 0, 0, 0],\n",
        "                      [0, 1, 0, 0],\n",
        "                      [0, 0, 1, 0],\n",
        "                      [0, 0, 0, 1]]))\n",
        "kernel_mat.append(np.array([[1, 0], [0, 1]]))\n",
        "expected_mat.append(np.array([[2, 0, 0], [0, 2, 0], [0, 0, 2]]))\n",
        "\n",
        "\n",
        "# test case 3\n",
        "input_mat.append(np.array([[1, 0, 0, 0],\n",
        "                      [0, 1, 0, 0],\n",
        "                      [0, 0, 1, 0],\n",
        "                      [0, 0, 0, 1]]))\n",
        "kernel_mat.append(np.array([[1, -1],\n",
        "                       [-1, 0]]))\n",
        "\n",
        "expected_mat.append(np.array([[ 1, -1,  0], [-1,  1, -1],[ 0, -1,  1]]))\n",
        "\n",
        "\n",
        "# test case 4\n",
        "input_mat.append(np.array([[1, 0, 0, 0],\n",
        "                      [0, 1, 0, 0],\n",
        "                      [0, 0, 1, 0],\n",
        "                      [0, 0, 0, 1]]))\n",
        "kernel_mat.append(np.array([[1, 0, 0, 0],\n",
        "                      [0, 1, 0, 0],\n",
        "                      [0, 0, 1, 0],\n",
        "                      [0, 0, 0, 1]]))\n",
        "\n",
        "expected_mat.append(np.array([[4]]))\n",
        "\n",
        "\n",
        "# test case 5 - should either through an error, or return empty matrix\n",
        "input_mat.append(np.array([[1, -1],\n",
        "                       [-1, 0]]))\n",
        "kernel_mat.append(np.array([[1, 0, 0, 0],\n",
        "                      [0, 1, 0, 0],\n",
        "                      [0, 0, 1, 0],\n",
        "                      [0, 0, 0, 1]]))\n",
        "\n",
        "expected_mat.append([])\n",
        "\n",
        "\n",
        "\n",
        "for i in range(len(input_mat)):\n",
        "  # uncomment line for student code testing\n",
        "  output_mat = conv2d(input_mat[i], kernel_mat[i])\n",
        "\n",
        "  # uncomment lines below (and comment line above) for generating test cases.\n",
        "  if input_mat[i].shape[0] < kernel_mat[i].shape[0]:\n",
        "    output_mat = []\n",
        "  else:\n",
        "    output_mat = signal.convolve2d(input_mat[i], kernel_mat[i], mode='valid')\n",
        "\n",
        "  print(output_mat)\n",
        "  if np.array_equal(output_mat, expected_mat[i]):\n",
        "    print(\"Correct output!\\n\")\n",
        "  else:\n",
        "    print(\"Incorrect output!\\n\")"
      ],
      "execution_count": 0,
      "outputs": []
    }
  ]
}