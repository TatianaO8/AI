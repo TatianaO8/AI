{
  "nbformat": 4,
  "nbformat_minor": 0,
  "metadata": {
    "colab": {
      "name": "HW_2_2.ipynb",
      "provenance": [],
      "collapsed_sections": [
        "BGqyg2_7gp7A",
        "V18p0CLKW40_"
      ],
      "include_colab_link": true
    },
    "kernelspec": {
      "name": "python3",
      "display_name": "Python 3"
    }
  },
  "cells": [
    {
      "cell_type": "markdown",
      "metadata": {
        "id": "view-in-github",
        "colab_type": "text"
      },
      "source": [
        "<a href=\"https://colab.research.google.com/github/TatianaO8/AI/blob/master/HW_2_2.ipynb\" target=\"_parent\"><img src=\"https://colab.research.google.com/assets/colab-badge.svg\" alt=\"Open In Colab\"/></a>"
      ]
    },
    {
      "cell_type": "markdown",
      "metadata": {
        "id": "p7o0zwjha_r9",
        "colab_type": "text"
      },
      "source": [
        "#HW 2 (Problem 2)"
      ]
    },
    {
      "cell_type": "markdown",
      "metadata": {
        "id": "BGqyg2_7gp7A",
        "colab_type": "text"
      },
      "source": [
        "## Imports"
      ]
    },
    {
      "cell_type": "code",
      "metadata": {
        "id": "l5rq92V7ObHs",
        "colab_type": "code",
        "colab": {}
      },
      "source": [
        "import numpy as np\n",
        "%matplotlib inline\n",
        "import matplotlib as mpl\n",
        "import matplotlib.pyplot as plt\n",
        "mpl.rc('axes', labelsize=14)\n",
        "mpl.rc('xtick', labelsize=12)\n",
        "mpl.rc('ytick', labelsize=12)"
      ],
      "execution_count": 0,
      "outputs": []
    },
    {
      "cell_type": "markdown",
      "metadata": {
        "id": "jKQkCwH3gf-p",
        "colab_type": "text"
      },
      "source": [
        "## Generate random data"
      ]
    },
    {
      "cell_type": "code",
      "metadata": {
        "id": "B4VTPpXkOhds",
        "colab_type": "code",
        "colab": {}
      },
      "source": [
        "# generate m random pairs (x_1, y_1)\n",
        "\n",
        "m = 100\n",
        "X_1 = 2 * np.random.rand(m, 1)\n",
        "X_2 = 2 * np.random.rand(m, 1)\n",
        "X = np.array([X_1, X_2])\n",
        "y_1 = 4 + 3 * X_1 + np.random.rand(m, 1)\n",
        "y_2 = 4 + 3 * X_2 + np.random.rand(m, 1)"
      ],
      "execution_count": 0,
      "outputs": []
    },
    {
      "cell_type": "code",
      "metadata": {
        "id": "PlhVE5hJSbsy",
        "colab_type": "code",
        "outputId": "cfa59b9a-0ed7-4fda-b6d5-9c89b84df645",
        "colab": {
          "base_uri": "https://localhost:8080/",
          "height": 290
        }
      },
      "source": [
        "plt.plot(X_1, y_1, \"b.\")\n",
        "plt.xlabel(\"$x_1$\", fontsize=18)\n",
        "plt.ylabel(\"$y$\", rotation=0, fontsize=18)\n",
        "plt.axis([0, 2, 0, 15])\n",
        "plt.show()"
      ],
      "execution_count": 339,
      "outputs": [
        {
          "output_type": "display_data",
          "data": {
            "image/png": "[encoded data removed]",
            "text/plain": [
              "<Figure size 432x288 with 1 Axes>"
            ]
          },
          "metadata": {
            "tags": []
          }
        }
      ]
    },
    {
      "cell_type": "code",
      "metadata": {
        "id": "sXuSb0nHi5Vh",
        "colab_type": "code",
        "colab": {
          "base_uri": "https://localhost:8080/",
          "height": 290
        },
        "outputId": "64c2fec5-f433-41c3-fac5-2579a60c7d16"
      },
      "source": [
        "plt.plot(X_2, y_2, \"b.\")\n",
        "plt.xlabel(\"$x_2$\", fontsize=18)\n",
        "plt.ylabel(\"$y_2$\", rotation=0, fontsize=18)\n",
        "plt.axis([0, 2, 0, 15])\n",
        "plt.show()"
      ],
      "execution_count": 340,
      "outputs": [
        {
          "output_type": "display_data",
          "data": {
            "image/png": "[encoded data removed]",
            "text/plain": [
              "<Figure size 432x288 with 1 Axes>"
            ]
          },
          "metadata": {
            "tags": []
          }
        }
      ]
    },
    {
      "cell_type": "markdown",
      "metadata": {
        "id": "v0YY-q9Zj0pv",
        "colab_type": "text"
      },
      "source": [
        "## Combine bias $b=w_0$ and weight $w_1$"
      ]
    },
    {
      "cell_type": "markdown",
      "metadata": {
        "id": "-qm83_mNkJX9",
        "colab_type": "text"
      },
      "source": [
        "Linear regression predicts $\\hat{y}=b + w_1 x_1$. It will be convenient to rewrite this as a dot product.  Define $w=(w_0, w_1)$ and $x=(1, x_1)$.  Then, we have $\\hat{y}=w \\boldsymbol{\\cdot} x$."
      ]
    },
    {
      "cell_type": "code",
      "metadata": {
        "id": "VmYytw5LSeki",
        "colab_type": "code",
        "colab": {}
      },
      "source": [
        "# add x0 = 1 \n",
        "X_b = np.column_stack([np.ones((m, 1)), X_1, X_2])\n",
        "y = np.column_stack([y_1, y_2])"
      ],
      "execution_count": 0,
      "outputs": []
    },
    {
      "cell_type": "code",
      "metadata": {
        "id": "QwrdvAfuiRaf",
        "colab_type": "code",
        "outputId": "8d2c6eed-0697-45ce-d77e-94746aaa41e7",
        "colab": {
          "base_uri": "https://localhost:8080/",
          "height": 52
        }
      },
      "source": [
        "print(X1_b.shape)\n",
        "print(X_b.shape)"
      ],
      "execution_count": 342,
      "outputs": [
        {
          "output_type": "stream",
          "text": [
            "(100, 2)\n",
            "(100, 3)\n"
          ],
          "name": "stdout"
        }
      ]
    },
    {
      "cell_type": "code",
      "metadata": {
        "id": "eVzZOlJHicUH",
        "colab_type": "code",
        "outputId": "ba52be35-5959-42a1-faff-c25d89ee1406",
        "colab": {
          "base_uri": "https://localhost:8080/",
          "height": 104
        }
      },
      "source": [
        "# show the first 5 rows\n",
        "print(X1_b[:5, :])\n",
        "#print(\"Now combined\")\n",
        "#print(X_b[:5, :])"
      ],
      "execution_count": 343,
      "outputs": [
        {
          "output_type": "stream",
          "text": [
            "[[1.         1.06448998]\n",
            " [1.         0.25148302]\n",
            " [1.         0.26542931]\n",
            " [1.         0.28708472]\n",
            " [1.         1.87963958]]\n"
          ],
          "name": "stdout"
        }
      ]
    },
    {
      "cell_type": "markdown",
      "metadata": {
        "colab_type": "text",
        "id": "3eUCTh9wW5YJ"
      },
      "source": [
        "## Linear regression using batch gradient descent \n",
        "All training examples are used to compute the gradient."
      ]
    },
    {
      "cell_type": "code",
      "metadata": {
        "colab_type": "code",
        "id": "mZkW6T62W5YH",
        "colab": {
          "base_uri": "https://localhost:8080/",
          "height": 69
        },
        "outputId": "c472b0df-69ea-4b7e-8869-61ab2fa40962"
      },
      "source": [
        "# number of epochs\n",
        "epochs = 20\n",
        "# learning rate\n",
        "lr = 0.01\n",
        "# fix initial random weight for gradient descent (batch gradient descent)\n",
        "np.random.seed(42)\n",
        "initial_weight = np.random.randn(3, 1) \n",
        "print(initial_weight)"
      ],
      "execution_count": 344,
      "outputs": [
        {
          "output_type": "stream",
          "text": [
            "[[ 0.49671415]\n",
            " [-0.1382643 ]\n",
            " [ 0.64768854]]\n"
          ],
          "name": "stdout"
        }
      ]
    },
    {
      "cell_type": "code",
      "metadata": {
        "colab_type": "code",
        "outputId": "46beab7c-6458-4015-fe52-2fe3e8c2ba4e",
        "id": "pmwWAsRgW5YE",
        "colab": {
          "base_uri": "https://localhost:8080/",
          "height": 87
        }
      },
      "source": [
        "# sanity check (I will use this to explain how the vectorized code works)\n",
        "print(initial_weight.shape)\n",
        "print(y_1.shape)\n",
        "print((X_b.dot(initial_weight)).shape)\n",
        "print((X_b.T.dot(X_b.dot(initial_weight))).shape)"
      ],
      "execution_count": 345,
      "outputs": [
        {
          "output_type": "stream",
          "text": [
            "(3, 1)\n",
            "(100, 1)\n",
            "(100, 1)\n",
            "(3, 1)\n"
          ],
          "name": "stdout"
        }
      ]
    },
    {
      "cell_type": "markdown",
      "metadata": {
        "id": "M2Jxr5VzdPmi",
        "colab_type": "text"
      },
      "source": [
        "# Linear regression using mini-batch gradient descent\n",
        "A few training examples are selected to compute the gradient."
      ]
    },
    {
      "cell_type": "code",
      "metadata": {
        "id": "SUa3UH9EdFR-",
        "colab_type": "code",
        "colab": {}
      },
      "source": [
        "weight = initial_weight\n",
        "weight_path_mgd = []\n",
        "batch_size = 4\n",
        "\n",
        "weight_path_mgd.append(weight)\n",
        "for epoch in range(epochs):\n",
        "    shuffled_indices = np.random.permutation(m)\n",
        "    X_b_shuffled = X_b[shuffled_indices]\n",
        "    y_shuffled = y[shuffled_indices]\n",
        "    for i in range(0, m, batch_size):\n",
        "        xi = X_b_shuffled[i:i+batch_size]\n",
        "        yi = y_shuffled[i:i+batch_size]\n",
        "        gradient = 1 / batch_size * xi.T.dot(xi.dot(weight) - yi)\n",
        "        weight = weight - lr * gradient\n",
        "        weight_path_mgd.append(weight)"
      ],
      "execution_count": 0,
      "outputs": []
    },
    {
      "cell_type": "code",
      "metadata": {
        "id": "Ypw1a8jJdyQm",
        "colab_type": "code",
        "outputId": "40cc21a8-598e-4ff3-888e-7d941aea035f",
        "colab": {
          "base_uri": "https://localhost:8080/",
          "height": 69
        }
      },
      "source": [
        "weight_path_mgd[-1]"
      ],
      "execution_count": 347,
      "outputs": [
        {
          "output_type": "execute_result",
          "data": {
            "text/plain": [
              "array([[3.24311881, 3.23341963],\n",
              "       [3.05099334, 0.85122944],\n",
              "       [1.07362465, 3.22448313]])"
            ]
          },
          "metadata": {
            "tags": []
          },
          "execution_count": 347
        }
      ]
    },
    {
      "cell_type": "code",
      "metadata": {
        "id": "v89X0u97d29m",
        "colab_type": "code",
        "colab": {
          "base_uri": "https://localhost:8080/",
          "height": 166
        },
        "outputId": "5481ffcd-89e2-4f77-9b91-0af21ba77759"
      },
      "source": [
        "weight_path_mgd = np.array(weight_path_mgd)"
      ],
      "execution_count": 348,
      "outputs": [
        {
          "output_type": "error",
          "ename": "ValueError",
          "evalue": "ignored",
          "traceback": [
            "\u001b[0;31m---------------------------------------------------------------------------\u001b[0m",
            "\u001b[0;31mValueError\u001b[0m                                Traceback (most recent call last)",
            "\u001b[0;32m<ipython-input-348-918f32504ca9>\u001b[0m in \u001b[0;36m<module>\u001b[0;34m()\u001b[0m\n\u001b[0;32m----> 1\u001b[0;31m \u001b[0mweight_path_mgd\u001b[0m \u001b[0;34m=\u001b[0m \u001b[0mnp\u001b[0m\u001b[0;34m.\u001b[0m\u001b[0marray\u001b[0m\u001b[0;34m(\u001b[0m\u001b[0mweight_path_mgd\u001b[0m\u001b[0;34m)\u001b[0m\u001b[0;34m\u001b[0m\u001b[0;34m\u001b[0m\u001b[0m\n\u001b[0m",
            "\u001b[0;31mValueError\u001b[0m: could not broadcast input array from shape (3,1) into shape (3)"
          ]
        }
      ]
    },
    {
      "cell_type": "markdown",
      "metadata": {
        "colab_type": "text",
        "id": "V18p0CLKW40_"
      },
      "source": [
        "### Compare the three types"
      ]
    },
    {
      "cell_type": "code",
      "metadata": {
        "colab_type": "code",
        "id": "eiaXATPNW400",
        "colab": {}
      },
      "source": [
        "plt.figure(figsize=(12,12))\n",
        "plt.plot(weight_path_sgd[:, 0], weight_path_sgd[:, 1], \"r-s\", linewidth=1, label=\"stochastic\")\n",
        "plt.plot(weight_path_mgd[:, 0], weight_path_mgd[:, 1], \"g-s\", linewidth=2, label=\"mini-batch\")\n",
        "plt.plot(weight_path_bgd[:, 0], weight_path_bgd[:, 1], \"b-s\", linewidth=3, label=\"batch\")\n",
        "plt.legend(loc=\"upper left\", fontsize=16)\n",
        "plt.xlabel(r\"$w_0$\", fontsize=20)\n",
        "plt.ylabel(r\"$w_1$   \", fontsize=20, rotation=0)\n",
        "plt.axis([-1, 5, -1, 4])\n",
        "plt.show()"
      ],
      "execution_count": 0,
      "outputs": []
    },
    {
      "cell_type": "code",
      "metadata": {
        "colab_type": "code",
        "id": "HZ_E5jWoW40s",
        "colab": {}
      },
      "source": [
        "plt.figure(figsize=(12,12))\n",
        "plt.plot(weight_path_sgd[:, 0], weight_path_sgd[:, 1], \"r-s\", linewidth=1, label=\"stochastic\")\n",
        "plt.plot(weight_path_mgd[:, 0], weight_path_mgd[:, 1], \"g-s\", linewidth=2, label=\"mini-batch\")\n",
        "plt.plot(weight_path_bgd[:, 0], weight_path_bgd[:, 1], \"b-s\", linewidth=3, label=\"batch\")\n",
        "plt.legend(loc=\"upper left\", fontsize=16)\n",
        "plt.xlabel(r\"$w_0$\", fontsize=20)\n",
        "plt.ylabel(r\"$w_1$   \", fontsize=20, rotation=0)\n",
        "plt.axis([3, 4.5, 2.5, 4])\n",
        "plt.show()"
      ],
      "execution_count": 0,
      "outputs": []
    },
    {
      "cell_type": "code",
      "metadata": {
        "colab_type": "code",
        "id": "SXDi_WUFW40j",
        "colab": {}
      },
      "source": [
        ""
      ],
      "execution_count": 0,
      "outputs": []
    }
  ]
}