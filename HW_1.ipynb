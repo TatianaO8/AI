{
  "nbformat": 4,
  "nbformat_minor": 0,
  "metadata": {
    "colab": {
      "name": "Untitled0.ipynb",
      "provenance": [],
      "collapsed_sections": [],
      "authorship_tag": "ABX9TyNe6czplNWOo5q+kW06m42k",
      "include_colab_link": true
    },
    "kernelspec": {
      "name": "python3",
      "display_name": "Python 3"
    }
  },
  "cells": [
    {
      "cell_type": "markdown",
      "metadata": {
        "id": "view-in-github",
        "colab_type": "text"
      },
      "source": [
        "<a href=\"https://colab.research.google.com/github/TatianaO8/AI/blob/master/HW_1.ipynb\" target=\"_parent\"><img src=\"https://colab.research.google.com/assets/colab-badge.svg\" alt=\"Open In Colab\"/></a>"
      ]
    },
    {
      "cell_type": "markdown",
      "metadata": {
        "id": "X2zCQOJGTwTR",
        "colab_type": "text"
      },
      "source": [
        "#HW_1\n",
        "Create a python function `multiply_matrices` that takes as input a list of numpy arrays and outputs their product.\n",
        "\n",
        "It raises a custom exception if there is a pair of incompatible matrices and provides information about which pair of matrices is bad. \n",
        "\n",
        "Thus, given a list of matrices [$M_1, M_2, M_3... M_n$] where n $\\geq$ 0, output the matrix product $M_1$ x $M_2$ x $M_3$ x ... x $M_n$ if the matrices are compatiable starting from i=0 to i=n. \n",
        "\n",
        "Two matrices are compatiable if for $A \\in \\mathbb{R} ^{n * m} $  and $B \\in \\mathbb{R} ^ {k*l} $, m=k meaning the number of columns in $A$ is equal to the number of rows in $B$.\n",
        "\n"
      ]
    },
    {
      "cell_type": "code",
      "metadata": {
        "id": "sScfY6WcVp0Q",
        "colab_type": "code",
        "colab": {}
      },
      "source": [
        "import numpy as np\n"
      ],
      "execution_count": 0,
      "outputs": []
    },
    {
      "cell_type": "code",
      "metadata": {
        "id": "kZdSRYtoR3EE",
        "colab_type": "code",
        "outputId": "9fb5487d-18e3-4e50-effb-b70028c434e3",
        "colab": {
          "base_uri": "https://localhost:8080/",
          "height": 359
        }
      },
      "source": [
        "def multiply_matrices(listOfMatrices):\n",
        "  length = len(listOfMatrices)\n",
        "\n",
        "  #Raise exceptions if the list is empty or only 1 element exists.\n",
        "  if(length == 0):\n",
        "    raise Exception('This list is empty.')\n",
        "  if(length == 1):\n",
        "    raise Exception('This list only has one element. No product can be done.')\n",
        "\n",
        "  i = 1\n",
        "  product = listOfMatrices[0]\n",
        "\n",
        "  while(i < length ):\n",
        "    productColumns = product.shape[1]\n",
        "    matrixRow = listOfMatrices[i].shape[0]\n",
        "\n",
        "    # Raise excpetion if the number of columns in the product does not equal the number of rows in matrix\n",
        "    if productColumns != matrixRow:\n",
        "      raise Exception('Incompatiable matrices. {} has {} columns and {} has {} rows.'.format(product, productColumns, listOfMatrices[i], matrixRow))\n",
        "    else:\n",
        "      product = np.matmul(product, listOfMatrices[i])\n",
        "      i += 1\n",
        "  return product\n",
        "      \n",
        "\n",
        "\n",
        "a1 = np.array([[1,2,3], [4,5,6]])\n",
        "a2 = np.array([[7,8],[9,10],[11,12]])\n",
        "a3 = np.array([[1,0],[5,6]])\n",
        "a4 = np.array([[2],[3]])\n",
        "a5 = np.array([[3,4,5]])\n",
        "c = np.array([a1,a2,a3, a4, a5])\n",
        "\n",
        "# Test case: List is empty. Exception raised.\n",
        "d = np.array([])\n",
        "#print(multiply_matrices(d))\n",
        "\n",
        "\n",
        "# Test case: 1 element in list. Exception raised.\n",
        "e = np.array([a1])\n",
        "#print(multiply_matrices(e))\n",
        "\n",
        "# Test case: Rows and columns don't match so can't do matrix multipication.\n",
        "f = np.array([[1,2]])\n",
        "#print(multiply_matrices(np.array([a1,f])))\n",
        "\n",
        "# Test case: Matrix multiplication of a list of 3 matrices.\n",
        "print(multiply_matrices(c))"
      ],
      "execution_count": 34,
      "outputs": [
        {
          "output_type": "error",
          "ename": "Exception",
          "evalue": "ignored",
          "traceback": [
            "\u001b[0;31m---------------------------------------------------------------------------\u001b[0m",
            "\u001b[0;31mException\u001b[0m                                 Traceback (most recent call last)",
            "\u001b[0;32m<ipython-input-34-7b50a5d9b150>\u001b[0m in \u001b[0;36m<module>\u001b[0;34m()\u001b[0m\n\u001b[1;32m     46\u001b[0m \u001b[0;34m\u001b[0m\u001b[0m\n\u001b[1;32m     47\u001b[0m \u001b[0;31m# Test case: Matrix multiplication of a list of 3 matrices.\u001b[0m\u001b[0;34m\u001b[0m\u001b[0;34m\u001b[0m\u001b[0;34m\u001b[0m\u001b[0m\n\u001b[0;32m---> 48\u001b[0;31m \u001b[0mprint\u001b[0m\u001b[0;34m(\u001b[0m\u001b[0mmultiply_matrices\u001b[0m\u001b[0;34m(\u001b[0m\u001b[0mc\u001b[0m\u001b[0;34m)\u001b[0m\u001b[0;34m)\u001b[0m\u001b[0;34m\u001b[0m\u001b[0;34m\u001b[0m\u001b[0m\n\u001b[0m",
            "\u001b[0;32m<ipython-input-34-7b50a5d9b150>\u001b[0m in \u001b[0;36mmultiply_matrices\u001b[0;34m(listOfMatrices)\u001b[0m\n\u001b[1;32m     17\u001b[0m     \u001b[0;31m# Raise excpetion if the number of columns in the product does not equal the number of rows in matrix\u001b[0m\u001b[0;34m\u001b[0m\u001b[0;34m\u001b[0m\u001b[0;34m\u001b[0m\u001b[0m\n\u001b[1;32m     18\u001b[0m     \u001b[0;32mif\u001b[0m \u001b[0mproductColumns\u001b[0m \u001b[0;34m!=\u001b[0m \u001b[0mmatrixRow\u001b[0m\u001b[0;34m:\u001b[0m\u001b[0;34m\u001b[0m\u001b[0;34m\u001b[0m\u001b[0m\n\u001b[0;32m---> 19\u001b[0;31m       \u001b[0;32mraise\u001b[0m \u001b[0mException\u001b[0m\u001b[0;34m(\u001b[0m\u001b[0;34m'Matrix multiplication is not possible. {} has {} columns and {} has {} rows.'\u001b[0m\u001b[0;34m.\u001b[0m\u001b[0mformat\u001b[0m\u001b[0;34m(\u001b[0m\u001b[0mproduct\u001b[0m\u001b[0;34m,\u001b[0m \u001b[0mproductColumns\u001b[0m\u001b[0;34m,\u001b[0m \u001b[0mlistOfMatrices\u001b[0m\u001b[0;34m[\u001b[0m\u001b[0mi\u001b[0m\u001b[0;34m]\u001b[0m\u001b[0;34m,\u001b[0m \u001b[0mmatrixRow\u001b[0m\u001b[0;34m)\u001b[0m\u001b[0;34m)\u001b[0m\u001b[0;34m\u001b[0m\u001b[0;34m\u001b[0m\u001b[0m\n\u001b[0m\u001b[1;32m     20\u001b[0m     \u001b[0;32melse\u001b[0m\u001b[0;34m:\u001b[0m\u001b[0;34m\u001b[0m\u001b[0;34m\u001b[0m\u001b[0m\n\u001b[1;32m     21\u001b[0m       \u001b[0mproduct\u001b[0m \u001b[0;34m=\u001b[0m \u001b[0mnp\u001b[0m\u001b[0;34m.\u001b[0m\u001b[0mmatmul\u001b[0m\u001b[0;34m(\u001b[0m\u001b[0mproduct\u001b[0m\u001b[0;34m,\u001b[0m \u001b[0mlistOfMatrices\u001b[0m\u001b[0;34m[\u001b[0m\u001b[0mi\u001b[0m\u001b[0;34m]\u001b[0m\u001b[0;34m)\u001b[0m\u001b[0;34m\u001b[0m\u001b[0;34m\u001b[0m\u001b[0m\n",
            "\u001b[0;31mException\u001b[0m: Matrix multiplication is not possible. [[1908 1908]\n [4590 4590]] has 2 columns and [[3 4 5]] has 1 rows."
          ]
        }
      ]
    }
  ]
}