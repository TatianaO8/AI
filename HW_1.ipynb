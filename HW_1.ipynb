{
  "nbformat": 4,
  "nbformat_minor": 0,
  "metadata": {
    "colab": {
      "name": "HW_1.ipynb",
      "provenance": [],
      "collapsed_sections": [],
      "authorship_tag": "ABX9TyPh4cgKtGEZcR0mtvHH/GHZ",
      "include_colab_link": true
    },
    "kernelspec": {
      "name": "python3",
      "display_name": "Python 3"
    }
  },
  "cells": [
    {
      "cell_type": "markdown",
      "metadata": {
        "id": "view-in-github",
        "colab_type": "text"
      },
      "source": [
        "<a href=\"https://colab.research.google.com/github/TatianaO8/AI/blob/master/HW_1.ipynb\" target=\"_parent\"><img src=\"https://colab.research.google.com/assets/colab-badge.svg\" alt=\"Open In Colab\"/></a>"
      ]
    },
    {
      "cell_type": "markdown",
      "metadata": {
        "id": "X2zCQOJGTwTR",
        "colab_type": "text"
      },
      "source": [
        "#HW_1\n",
        "Create a python function `multiply_matrices` that takes as input a list of numpy arrays and outputs their product.\n",
        "\n",
        "It raises a custom exception if there is a pair of incompatible matrices and provides information about which pair of matrices is bad. \n",
        "\n",
        "Thus, given a list of matrices [$M_1, M_2, M_3... M_n$] where n $\\geq$ 0, output the matrix product $M_1$ x $M_2$ x $M_3$ x ... x $M_n$ if the matrices are compatiable starting from i=0 to i=n. \n",
        "\n",
        "Two matrices are compatiable if for $A \\in \\mathbb{R} ^{n * m} $  and $B \\in \\mathbb{R} ^ {k*l} $, m=k meaning the number of columns in $A$ is equal to the number of rows in $B$.\n",
        "\n"
      ]
    },
    {
      "cell_type": "code",
      "metadata": {
        "id": "sScfY6WcVp0Q",
        "colab_type": "code",
        "colab": {}
      },
      "source": [
        "import numpy as np\n"
      ],
      "execution_count": 0,
      "outputs": []
    },
    {
      "cell_type": "code",
      "metadata": {
        "id": "kZdSRYtoR3EE",
        "colab_type": "code",
        "colab": {}
      },
      "source": [
        "def multiply_matrices(listOfMatrices):\n",
        "  length = len(listOfMatrices)\n",
        "\n",
        "  #Raise exceptions if the list is empty or only 1 element exists.\n",
        "  if(length == 0):\n",
        "    raise Exception('This list is empty.')\n",
        "  if(length == 1):\n",
        "    raise Exception('This list only has one element. No product can be done.')\n",
        "\n",
        "  i = 1\n",
        "  product = listOfMatrices[0]\n",
        "\n",
        "  while(i < length ):\n",
        "    productColumns = product.shape[1]\n",
        "    matrixRow = listOfMatrices[i].shape[0]\n",
        "\n",
        "    # Raise excpetion if the number of columns in the product does not equal \n",
        "    # the number of rows in matrix\n",
        "    if productColumns != matrixRow:\n",
        "      raise Exception(\"\"\"Incompatiable matrices. {} has {} columns and {} has \n",
        "      {} rows.\"\"\".format(product, productColumns, listOfMatrices[i], matrixRow))\n",
        "    else:\n",
        "      product = np.matmul(product, listOfMatrices[i])\n",
        "      i += 1\n",
        "  return product\n",
        "\n",
        "\n"
      ],
      "execution_count": 0,
      "outputs": []
    },
    {
      "cell_type": "markdown",
      "metadata": {
        "id": "7NuFTR5NA8DX",
        "colab_type": "text"
      },
      "source": [
        "## Testing "
      ]
    },
    {
      "cell_type": "code",
      "metadata": {
        "id": "e63Prv9Y_zcC",
        "colab_type": "code",
        "colab": {
          "base_uri": "https://localhost:8080/",
          "height": 52
        },
        "outputId": "7b0329be-0c0f-4e09-e650-609ad684bc3f"
      },
      "source": [
        "a1 = np.array([[1,2,3], [4,5,6]])\n",
        "a2 = np.array([[7,8],[9,10],[11,12]])\n",
        "a3 = np.array([[1,0],[5,6]])\n",
        "a4 = np.array([[2],[3]])\n",
        "a4_2 = np.array([[2,2],[3,3]])\n",
        "a5 = np.array([[3,4,5]])\n",
        "c = np.array([a1,a2,a3,a4,a5])\n",
        "c_2 = np.array([a1,a2,a3,a4_2,a5])\n",
        "\n",
        "# Test case: List is empty. Exception raised.\n",
        "d = np.array([])\n",
        "#print(multiply_matrices(d))\n",
        "\n",
        "# Test case: 1 element in list. Exception raised.\n",
        "e = np.array([a1])\n",
        "#print(multiply_matrices(e))\n",
        "\n",
        "# Test case: Rows and columns don't match so can't do matrix multipication.\n",
        "f = np.array([[1,2]])\n",
        "#print(multiply_matrices(np.array([a1,f])))\n",
        "\n",
        "# Test case: Matrix multiplication of a list of 3 matrices.\n",
        "print(multiply_matrices(c))\n",
        "\n",
        "#Test case: Incompatiable matrices with multiple matrices. \n",
        "#print(multiply_matrices(c_2))"
      ],
      "execution_count": 44,
      "outputs": [
        {
          "output_type": "stream",
          "text": [
            "[[ 5724  7632  9540]\n",
            " [13770 18360 22950]]\n"
          ],
          "name": "stdout"
        }
      ]
    }
  ]
}