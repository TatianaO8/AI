{
  "nbformat": 4,
  "nbformat_minor": 0,
  "metadata": {
    "colab": {
      "name": "HW4_3_1.ipynb",
      "provenance": [],
      "collapsed_sections": [],
      "include_colab_link": true
    },
    "kernelspec": {
      "name": "python3",
      "display_name": "Python 3"
    },
    "accelerator": "GPU"
  },
  "cells": [
    {
      "cell_type": "markdown",
      "metadata": {
        "id": "view-in-github",
        "colab_type": "text"
      },
      "source": [
        "<a href=\"https://colab.research.google.com/github/TatianaO8/AI/blob/master/HW4_3_1.ipynb\" target=\"_parent\"><img src=\"https://colab.research.google.com/assets/colab-badge.svg\" alt=\"Open In Colab\"/></a>"
      ]
    },
    {
      "cell_type": "markdown",
      "metadata": {
        "id": "ZZPKIoFo9CNy",
        "colab_type": "text"
      },
      "source": [
        "# Homework 4 Problem 3 (1)"
      ]
    },
    {
      "cell_type": "markdown",
      "metadata": {
        "id": "rZgluNih9IGQ",
        "colab_type": "text"
      },
      "source": [
        "You will adapt the notebook using VGG16 conv base for feature extraction, using data augmentation, not using dropout, fine-tuning. You will have to replace the VGG16 conv base by new conv bases. You should not use VGG19.\n",
        "\n",
        "You should create two notebooks. Both should use the same conv base, unfreeze the same number of layers of the conv_base, but use different classifiers."
      ]
    },
    {
      "cell_type": "markdown",
      "metadata": {
        "id": "KSrgMJ5vKFzQ",
        "colab_type": "text"
      },
      "source": [
        "## Fine-tuning VGG16 "
      ]
    },
    {
      "cell_type": "markdown",
      "metadata": {
        "id": "TIW7bZaAK-Hf",
        "colab_type": "text"
      },
      "source": [
        "This is based on section 5.3 *Using a pretrained convnet* of the book *Deep learning with Python* by Francois Chollet. I have made several changes to the code. I use the data that is already provided by Google. I don't download the data from Kaggle as in the deep learning book."
      ]
    },
    {
      "cell_type": "markdown",
      "metadata": {
        "id": "nsBq__dVo2pj",
        "colab_type": "text"
      },
      "source": [
        "## Feature extraction"
      ]
    },
    {
      "cell_type": "markdown",
      "metadata": {
        "id": "0g6ETAM9o54M",
        "colab_type": "text"
      },
      "source": [
        "Feature extraction consists of using the representations learned by a previous network to extract interesting features from new samples. These features are then run through a new classifier, which is trained from scratch.\n",
        "\n",
        "We will use here the convolutional base of the VGG16 model to extract the features. We will feed these features to a densely connected classifier with dropout. We will fine-tune some layers."
      ]
    },
    {
      "cell_type": "markdown",
      "metadata": {
        "id": "BqIG8QHMLNOn",
        "colab_type": "text"
      },
      "source": [
        "## Download the data"
      ]
    },
    {
      "cell_type": "markdown",
      "metadata": {
        "id": "t3I1jd7cKV6_",
        "colab_type": "text"
      },
      "source": [
        "Download the example data, a zip. of 2,000 JPG pictures of cats and dogs and extract it locally in ```/tmp```.\n",
        "\n"
      ]
    },
    {
      "cell_type": "code",
      "metadata": {
        "id": "JWjprHEXJ5Qi",
        "colab_type": "code",
        "outputId": "b0109037-ef5a-464d-d959-fb3a5d123cc1",
        "colab": {
          "base_uri": "https://localhost:8080/",
          "height": 215
        }
      },
      "source": [
        "!wget --no-check-certificate \\\n",
        "    https://storage.googleapis.com/mledu-datasets/cats_and_dogs_filtered.zip \\\n",
        "    -O /tmp/cats_and_dogs_filtered.zip"
      ],
      "execution_count": 0,
      "outputs": [
        {
          "output_type": "stream",
          "text": [
            "--2020-04-20 03:07:12--  https://storage.googleapis.com/mledu-datasets/cats_and_dogs_filtered.zip\n",
            "Resolving storage.googleapis.com (storage.googleapis.com)... 74.125.197.128, 2607:f8b0:400e:c08::80\n",
            "Connecting to storage.googleapis.com (storage.googleapis.com)|74.125.197.128|:443... connected.\n",
            "HTTP request sent, awaiting response... 200 OK\n",
            "Length: 68606236 (65M) [application/zip]\n",
            "Saving to: ‘/tmp/cats_and_dogs_filtered.zip’\n",
            "\n",
            "/tmp/cats_and_dogs_ 100%[===================>]  65.43M   135MB/s    in 0.5s    \n",
            "\n",
            "2020-04-20 03:07:13 (135 MB/s) - ‘/tmp/cats_and_dogs_filtered.zip’ saved [68606236/68606236]\n",
            "\n"
          ],
          "name": "stdout"
        }
      ]
    },
    {
      "cell_type": "code",
      "metadata": {
        "id": "WvoHtdA-K6Rw",
        "colab_type": "code",
        "colab": {}
      },
      "source": [
        "import os\n",
        "import zipfile\n",
        "\n",
        "local_zip = '/tmp/cats_and_dogs_filtered.zip'\n",
        "zip_ref = zipfile.ZipFile(local_zip, 'r')\n",
        "zip_ref.extractall('/tmp')\n",
        "zip_ref.close()"
      ],
      "execution_count": 0,
      "outputs": []
    },
    {
      "cell_type": "markdown",
      "metadata": {
        "id": "shZiOBnJMyy_",
        "colab_type": "text"
      },
      "source": [
        "Note that the data provided by Google does not have a test set."
      ]
    },
    {
      "cell_type": "code",
      "metadata": {
        "id": "dL8ikM89LlsH",
        "colab_type": "code",
        "colab": {}
      },
      "source": [
        "base_dir = '/tmp/cats_and_dogs_filtered'\n",
        "train_dir = os.path.join(base_dir, 'train')\n",
        "validation_dir = os.path.join(base_dir, 'validation')\n",
        "\n",
        "# Directory with our training cat pictures\n",
        "train_cats_dir = os.path.join(train_dir, 'cats')\n",
        "\n",
        "# Directory with our training dog pictures\n",
        "train_dogs_dir = os.path.join(train_dir, 'dogs')\n",
        "\n",
        "# Directory with our validation cat pictures\n",
        "validation_cats_dir = os.path.join(validation_dir, 'cats')\n",
        "\n",
        "# Directory with our validation dog pictures\n",
        "validation_dogs_dir = os.path.join(validation_dir, 'dogs')"
      ],
      "execution_count": 0,
      "outputs": []
    },
    {
      "cell_type": "markdown",
      "metadata": {
        "id": "inyP8bcdXnn-",
        "colab_type": "text"
      },
      "source": [
        "## Build network with Xception convolution base and custom densely connected layers"
      ]
    },
    {
      "cell_type": "markdown",
      "metadata": {
        "id": "kQ48W5T9rHWu",
        "colab_type": "text"
      },
      "source": [
        "### Load the convolutional base"
      ]
    },
    {
      "cell_type": "code",
      "metadata": {
        "id": "Y0FgtANCXm_H",
        "colab_type": "code",
        "outputId": "f1870a75-e69c-45b2-ea3d-d52d386a182f",
        "colab": {
          "base_uri": "https://localhost:8080/",
          "height": 91
        }
      },
      "source": [
        "from keras.applications import Xception\n",
        "\n",
        "conv_base = Xception(\n",
        "    include_top=False, \n",
        "    weights='imagenet', \n",
        "    input_shape=(150, 150, 3))"
      ],
      "execution_count": 0,
      "outputs": [
        {
          "output_type": "stream",
          "text": [
            "Using TensorFlow backend.\n"
          ],
          "name": "stderr"
        },
        {
          "output_type": "stream",
          "text": [
            "Downloading data from https://github.com/fchollet/deep-learning-models/releases/download/v0.4/xception_weights_tf_dim_ordering_tf_kernels_notop.h5\n",
            "83689472/83683744 [==============================] - 2s 0us/step\n"
          ],
          "name": "stdout"
        }
      ]
    },
    {
      "cell_type": "code",
      "metadata": {
        "id": "ITQerTCoOUfM",
        "colab_type": "code",
        "outputId": "4ee524af-9fce-488a-caae-dd8ab6990bdf",
        "colab": {
          "base_uri": "https://localhost:8080/",
          "height": 1000
        }
      },
      "source": [
        "conv_base.summary()"
      ],
      "execution_count": 0,
      "outputs": [
        {
          "output_type": "stream",
          "text": [
            "Model: \"xception\"\n",
            "__________________________________________________________________________________________________\n",
            "Layer (type)                    Output Shape         Param #     Connected to                     \n",
            "==================================================================================================\n",
            "input_1 (InputLayer)            (None, 150, 150, 3)  0                                            \n",
            "__________________________________________________________________________________________________\n",
            "block1_conv1 (Conv2D)           (None, 74, 74, 32)   864         input_1[0][0]                    \n",
            "__________________________________________________________________________________________________\n",
            "block1_conv1_bn (BatchNormaliza (None, 74, 74, 32)   128         block1_conv1[0][0]               \n",
            "__________________________________________________________________________________________________\n",
            "block1_conv1_act (Activation)   (None, 74, 74, 32)   0           block1_conv1_bn[0][0]            \n",
            "__________________________________________________________________________________________________\n",
            "block1_conv2 (Conv2D)           (None, 72, 72, 64)   18432       block1_conv1_act[0][0]           \n",
            "__________________________________________________________________________________________________\n",
            "block1_conv2_bn (BatchNormaliza (None, 72, 72, 64)   256         block1_conv2[0][0]               \n",
            "__________________________________________________________________________________________________\n",
            "block1_conv2_act (Activation)   (None, 72, 72, 64)   0           block1_conv2_bn[0][0]            \n",
            "__________________________________________________________________________________________________\n",
            "block2_sepconv1 (SeparableConv2 (None, 72, 72, 128)  8768        block1_conv2_act[0][0]           \n",
            "__________________________________________________________________________________________________\n",
            "block2_sepconv1_bn (BatchNormal (None, 72, 72, 128)  512         block2_sepconv1[0][0]            \n",
            "__________________________________________________________________________________________________\n",
            "block2_sepconv2_act (Activation (None, 72, 72, 128)  0           block2_sepconv1_bn[0][0]         \n",
            "__________________________________________________________________________________________________\n",
            "block2_sepconv2 (SeparableConv2 (None, 72, 72, 128)  17536       block2_sepconv2_act[0][0]        \n",
            "__________________________________________________________________________________________________\n",
            "block2_sepconv2_bn (BatchNormal (None, 72, 72, 128)  512         block2_sepconv2[0][0]            \n",
            "__________________________________________________________________________________________________\n",
            "conv2d_1 (Conv2D)               (None, 36, 36, 128)  8192        block1_conv2_act[0][0]           \n",
            "__________________________________________________________________________________________________\n",
            "block2_pool (MaxPooling2D)      (None, 36, 36, 128)  0           block2_sepconv2_bn[0][0]         \n",
            "__________________________________________________________________________________________________\n",
            "batch_normalization_1 (BatchNor (None, 36, 36, 128)  512         conv2d_1[0][0]                   \n",
            "__________________________________________________________________________________________________\n",
            "add_1 (Add)                     (None, 36, 36, 128)  0           block2_pool[0][0]                \n",
            "                                                                 batch_normalization_1[0][0]      \n",
            "__________________________________________________________________________________________________\n",
            "block3_sepconv1_act (Activation (None, 36, 36, 128)  0           add_1[0][0]                      \n",
            "__________________________________________________________________________________________________\n",
            "block3_sepconv1 (SeparableConv2 (None, 36, 36, 256)  33920       block3_sepconv1_act[0][0]        \n",
            "__________________________________________________________________________________________________\n",
            "block3_sepconv1_bn (BatchNormal (None, 36, 36, 256)  1024        block3_sepconv1[0][0]            \n",
            "__________________________________________________________________________________________________\n",
            "block3_sepconv2_act (Activation (None, 36, 36, 256)  0           block3_sepconv1_bn[0][0]         \n",
            "__________________________________________________________________________________________________\n",
            "block3_sepconv2 (SeparableConv2 (None, 36, 36, 256)  67840       block3_sepconv2_act[0][0]        \n",
            "__________________________________________________________________________________________________\n",
            "block3_sepconv2_bn (BatchNormal (None, 36, 36, 256)  1024        block3_sepconv2[0][0]            \n",
            "__________________________________________________________________________________________________\n",
            "conv2d_2 (Conv2D)               (None, 18, 18, 256)  32768       add_1[0][0]                      \n",
            "__________________________________________________________________________________________________\n",
            "block3_pool (MaxPooling2D)      (None, 18, 18, 256)  0           block3_sepconv2_bn[0][0]         \n",
            "__________________________________________________________________________________________________\n",
            "batch_normalization_2 (BatchNor (None, 18, 18, 256)  1024        conv2d_2[0][0]                   \n",
            "__________________________________________________________________________________________________\n",
            "add_2 (Add)                     (None, 18, 18, 256)  0           block3_pool[0][0]                \n",
            "                                                                 batch_normalization_2[0][0]      \n",
            "__________________________________________________________________________________________________\n",
            "block4_sepconv1_act (Activation (None, 18, 18, 256)  0           add_2[0][0]                      \n",
            "__________________________________________________________________________________________________\n",
            "block4_sepconv1 (SeparableConv2 (None, 18, 18, 728)  188672      block4_sepconv1_act[0][0]        \n",
            "__________________________________________________________________________________________________\n",
            "block4_sepconv1_bn (BatchNormal (None, 18, 18, 728)  2912        block4_sepconv1[0][0]            \n",
            "__________________________________________________________________________________________________\n",
            "block4_sepconv2_act (Activation (None, 18, 18, 728)  0           block4_sepconv1_bn[0][0]         \n",
            "__________________________________________________________________________________________________\n",
            "block4_sepconv2 (SeparableConv2 (None, 18, 18, 728)  536536      block4_sepconv2_act[0][0]        \n",
            "__________________________________________________________________________________________________\n",
            "block4_sepconv2_bn (BatchNormal (None, 18, 18, 728)  2912        block4_sepconv2[0][0]            \n",
            "__________________________________________________________________________________________________\n",
            "conv2d_3 (Conv2D)               (None, 9, 9, 728)    186368      add_2[0][0]                      \n",
            "__________________________________________________________________________________________________\n",
            "block4_pool (MaxPooling2D)      (None, 9, 9, 728)    0           block4_sepconv2_bn[0][0]         \n",
            "__________________________________________________________________________________________________\n",
            "batch_normalization_3 (BatchNor (None, 9, 9, 728)    2912        conv2d_3[0][0]                   \n",
            "__________________________________________________________________________________________________\n",
            "add_3 (Add)                     (None, 9, 9, 728)    0           block4_pool[0][0]                \n",
            "                                                                 batch_normalization_3[0][0]      \n",
            "__________________________________________________________________________________________________\n",
            "block5_sepconv1_act (Activation (None, 9, 9, 728)    0           add_3[0][0]                      \n",
            "__________________________________________________________________________________________________\n",
            "block5_sepconv1 (SeparableConv2 (None, 9, 9, 728)    536536      block5_sepconv1_act[0][0]        \n",
            "__________________________________________________________________________________________________\n",
            "block5_sepconv1_bn (BatchNormal (None, 9, 9, 728)    2912        block5_sepconv1[0][0]            \n",
            "__________________________________________________________________________________________________\n",
            "block5_sepconv2_act (Activation (None, 9, 9, 728)    0           block5_sepconv1_bn[0][0]         \n",
            "__________________________________________________________________________________________________\n",
            "block5_sepconv2 (SeparableConv2 (None, 9, 9, 728)    536536      block5_sepconv2_act[0][0]        \n",
            "__________________________________________________________________________________________________\n",
            "block5_sepconv2_bn (BatchNormal (None, 9, 9, 728)    2912        block5_sepconv2[0][0]            \n",
            "__________________________________________________________________________________________________\n",
            "block5_sepconv3_act (Activation (None, 9, 9, 728)    0           block5_sepconv2_bn[0][0]         \n",
            "__________________________________________________________________________________________________\n",
            "block5_sepconv3 (SeparableConv2 (None, 9, 9, 728)    536536      block5_sepconv3_act[0][0]        \n",
            "__________________________________________________________________________________________________\n",
            "block5_sepconv3_bn (BatchNormal (None, 9, 9, 728)    2912        block5_sepconv3[0][0]            \n",
            "__________________________________________________________________________________________________\n",
            "add_4 (Add)                     (None, 9, 9, 728)    0           block5_sepconv3_bn[0][0]         \n",
            "                                                                 add_3[0][0]                      \n",
            "__________________________________________________________________________________________________\n",
            "block6_sepconv1_act (Activation (None, 9, 9, 728)    0           add_4[0][0]                      \n",
            "__________________________________________________________________________________________________\n",
            "block6_sepconv1 (SeparableConv2 (None, 9, 9, 728)    536536      block6_sepconv1_act[0][0]        \n",
            "__________________________________________________________________________________________________\n",
            "block6_sepconv1_bn (BatchNormal (None, 9, 9, 728)    2912        block6_sepconv1[0][0]            \n",
            "__________________________________________________________________________________________________\n",
            "block6_sepconv2_act (Activation (None, 9, 9, 728)    0           block6_sepconv1_bn[0][0]         \n",
            "__________________________________________________________________________________________________\n",
            "block6_sepconv2 (SeparableConv2 (None, 9, 9, 728)    536536      block6_sepconv2_act[0][0]        \n",
            "__________________________________________________________________________________________________\n",
            "block6_sepconv2_bn (BatchNormal (None, 9, 9, 728)    2912        block6_sepconv2[0][0]            \n",
            "__________________________________________________________________________________________________\n",
            "block6_sepconv3_act (Activation (None, 9, 9, 728)    0           block6_sepconv2_bn[0][0]         \n",
            "__________________________________________________________________________________________________\n",
            "block6_sepconv3 (SeparableConv2 (None, 9, 9, 728)    536536      block6_sepconv3_act[0][0]        \n",
            "__________________________________________________________________________________________________\n",
            "block6_sepconv3_bn (BatchNormal (None, 9, 9, 728)    2912        block6_sepconv3[0][0]            \n",
            "__________________________________________________________________________________________________\n",
            "add_5 (Add)                     (None, 9, 9, 728)    0           block6_sepconv3_bn[0][0]         \n",
            "                                                                 add_4[0][0]                      \n",
            "__________________________________________________________________________________________________\n",
            "block7_sepconv1_act (Activation (None, 9, 9, 728)    0           add_5[0][0]                      \n",
            "__________________________________________________________________________________________________\n",
            "block7_sepconv1 (SeparableConv2 (None, 9, 9, 728)    536536      block7_sepconv1_act[0][0]        \n",
            "__________________________________________________________________________________________________\n",
            "block7_sepconv1_bn (BatchNormal (None, 9, 9, 728)    2912        block7_sepconv1[0][0]            \n",
            "__________________________________________________________________________________________________\n",
            "block7_sepconv2_act (Activation (None, 9, 9, 728)    0           block7_sepconv1_bn[0][0]         \n",
            "__________________________________________________________________________________________________\n",
            "block7_sepconv2 (SeparableConv2 (None, 9, 9, 728)    536536      block7_sepconv2_act[0][0]        \n",
            "__________________________________________________________________________________________________\n",
            "block7_sepconv2_bn (BatchNormal (None, 9, 9, 728)    2912        block7_sepconv2[0][0]            \n",
            "__________________________________________________________________________________________________\n",
            "block7_sepconv3_act (Activation (None, 9, 9, 728)    0           block7_sepconv2_bn[0][0]         \n",
            "__________________________________________________________________________________________________\n",
            "block7_sepconv3 (SeparableConv2 (None, 9, 9, 728)    536536      block7_sepconv3_act[0][0]        \n",
            "__________________________________________________________________________________________________\n",
            "block7_sepconv3_bn (BatchNormal (None, 9, 9, 728)    2912        block7_sepconv3[0][0]            \n",
            "__________________________________________________________________________________________________\n",
            "add_6 (Add)                     (None, 9, 9, 728)    0           block7_sepconv3_bn[0][0]         \n",
            "                                                                 add_5[0][0]                      \n",
            "__________________________________________________________________________________________________\n",
            "block8_sepconv1_act (Activation (None, 9, 9, 728)    0           add_6[0][0]                      \n",
            "__________________________________________________________________________________________________\n",
            "block8_sepconv1 (SeparableConv2 (None, 9, 9, 728)    536536      block8_sepconv1_act[0][0]        \n",
            "__________________________________________________________________________________________________\n",
            "block8_sepconv1_bn (BatchNormal (None, 9, 9, 728)    2912        block8_sepconv1[0][0]            \n",
            "__________________________________________________________________________________________________\n",
            "block8_sepconv2_act (Activation (None, 9, 9, 728)    0           block8_sepconv1_bn[0][0]         \n",
            "__________________________________________________________________________________________________\n",
            "block8_sepconv2 (SeparableConv2 (None, 9, 9, 728)    536536      block8_sepconv2_act[0][0]        \n",
            "__________________________________________________________________________________________________\n",
            "block8_sepconv2_bn (BatchNormal (None, 9, 9, 728)    2912        block8_sepconv2[0][0]            \n",
            "__________________________________________________________________________________________________\n",
            "block8_sepconv3_act (Activation (None, 9, 9, 728)    0           block8_sepconv2_bn[0][0]         \n",
            "__________________________________________________________________________________________________\n",
            "block8_sepconv3 (SeparableConv2 (None, 9, 9, 728)    536536      block8_sepconv3_act[0][0]        \n",
            "__________________________________________________________________________________________________\n",
            "block8_sepconv3_bn (BatchNormal (None, 9, 9, 728)    2912        block8_sepconv3[0][0]            \n",
            "__________________________________________________________________________________________________\n",
            "add_7 (Add)                     (None, 9, 9, 728)    0           block8_sepconv3_bn[0][0]         \n",
            "                                                                 add_6[0][0]                      \n",
            "__________________________________________________________________________________________________\n",
            "block9_sepconv1_act (Activation (None, 9, 9, 728)    0           add_7[0][0]                      \n",
            "__________________________________________________________________________________________________\n",
            "block9_sepconv1 (SeparableConv2 (None, 9, 9, 728)    536536      block9_sepconv1_act[0][0]        \n",
            "__________________________________________________________________________________________________\n",
            "block9_sepconv1_bn (BatchNormal (None, 9, 9, 728)    2912        block9_sepconv1[0][0]            \n",
            "__________________________________________________________________________________________________\n",
            "block9_sepconv2_act (Activation (None, 9, 9, 728)    0           block9_sepconv1_bn[0][0]         \n",
            "__________________________________________________________________________________________________\n",
            "block9_sepconv2 (SeparableConv2 (None, 9, 9, 728)    536536      block9_sepconv2_act[0][0]        \n",
            "__________________________________________________________________________________________________\n",
            "block9_sepconv2_bn (BatchNormal (None, 9, 9, 728)    2912        block9_sepconv2[0][0]            \n",
            "__________________________________________________________________________________________________\n",
            "block9_sepconv3_act (Activation (None, 9, 9, 728)    0           block9_sepconv2_bn[0][0]         \n",
            "__________________________________________________________________________________________________\n",
            "block9_sepconv3 (SeparableConv2 (None, 9, 9, 728)    536536      block9_sepconv3_act[0][0]        \n",
            "__________________________________________________________________________________________________\n",
            "block9_sepconv3_bn (BatchNormal (None, 9, 9, 728)    2912        block9_sepconv3[0][0]            \n",
            "__________________________________________________________________________________________________\n",
            "add_8 (Add)                     (None, 9, 9, 728)    0           block9_sepconv3_bn[0][0]         \n",
            "                                                                 add_7[0][0]                      \n",
            "__________________________________________________________________________________________________\n",
            "block10_sepconv1_act (Activatio (None, 9, 9, 728)    0           add_8[0][0]                      \n",
            "__________________________________________________________________________________________________\n",
            "block10_sepconv1 (SeparableConv (None, 9, 9, 728)    536536      block10_sepconv1_act[0][0]       \n",
            "__________________________________________________________________________________________________\n",
            "block10_sepconv1_bn (BatchNorma (None, 9, 9, 728)    2912        block10_sepconv1[0][0]           \n",
            "__________________________________________________________________________________________________\n",
            "block10_sepconv2_act (Activatio (None, 9, 9, 728)    0           block10_sepconv1_bn[0][0]        \n",
            "__________________________________________________________________________________________________\n",
            "block10_sepconv2 (SeparableConv (None, 9, 9, 728)    536536      block10_sepconv2_act[0][0]       \n",
            "__________________________________________________________________________________________________\n",
            "block10_sepconv2_bn (BatchNorma (None, 9, 9, 728)    2912        block10_sepconv2[0][0]           \n",
            "__________________________________________________________________________________________________\n",
            "block10_sepconv3_act (Activatio (None, 9, 9, 728)    0           block10_sepconv2_bn[0][0]        \n",
            "__________________________________________________________________________________________________\n",
            "block10_sepconv3 (SeparableConv (None, 9, 9, 728)    536536      block10_sepconv3_act[0][0]       \n",
            "__________________________________________________________________________________________________\n",
            "block10_sepconv3_bn (BatchNorma (None, 9, 9, 728)    2912        block10_sepconv3[0][0]           \n",
            "__________________________________________________________________________________________________\n",
            "add_9 (Add)                     (None, 9, 9, 728)    0           block10_sepconv3_bn[0][0]        \n",
            "                                                                 add_8[0][0]                      \n",
            "__________________________________________________________________________________________________\n",
            "block11_sepconv1_act (Activatio (None, 9, 9, 728)    0           add_9[0][0]                      \n",
            "__________________________________________________________________________________________________\n",
            "block11_sepconv1 (SeparableConv (None, 9, 9, 728)    536536      block11_sepconv1_act[0][0]       \n",
            "__________________________________________________________________________________________________\n",
            "block11_sepconv1_bn (BatchNorma (None, 9, 9, 728)    2912        block11_sepconv1[0][0]           \n",
            "__________________________________________________________________________________________________\n",
            "block11_sepconv2_act (Activatio (None, 9, 9, 728)    0           block11_sepconv1_bn[0][0]        \n",
            "__________________________________________________________________________________________________\n",
            "block11_sepconv2 (SeparableConv (None, 9, 9, 728)    536536      block11_sepconv2_act[0][0]       \n",
            "__________________________________________________________________________________________________\n",
            "block11_sepconv2_bn (BatchNorma (None, 9, 9, 728)    2912        block11_sepconv2[0][0]           \n",
            "__________________________________________________________________________________________________\n",
            "block11_sepconv3_act (Activatio (None, 9, 9, 728)    0           block11_sepconv2_bn[0][0]        \n",
            "__________________________________________________________________________________________________\n",
            "block11_sepconv3 (SeparableConv (None, 9, 9, 728)    536536      block11_sepconv3_act[0][0]       \n",
            "__________________________________________________________________________________________________\n",
            "block11_sepconv3_bn (BatchNorma (None, 9, 9, 728)    2912        block11_sepconv3[0][0]           \n",
            "__________________________________________________________________________________________________\n",
            "add_10 (Add)                    (None, 9, 9, 728)    0           block11_sepconv3_bn[0][0]        \n",
            "                                                                 add_9[0][0]                      \n",
            "__________________________________________________________________________________________________\n",
            "block12_sepconv1_act (Activatio (None, 9, 9, 728)    0           add_10[0][0]                     \n",
            "__________________________________________________________________________________________________\n",
            "block12_sepconv1 (SeparableConv (None, 9, 9, 728)    536536      block12_sepconv1_act[0][0]       \n",
            "__________________________________________________________________________________________________\n",
            "block12_sepconv1_bn (BatchNorma (None, 9, 9, 728)    2912        block12_sepconv1[0][0]           \n",
            "__________________________________________________________________________________________________\n",
            "block12_sepconv2_act (Activatio (None, 9, 9, 728)    0           block12_sepconv1_bn[0][0]        \n",
            "__________________________________________________________________________________________________\n",
            "block12_sepconv2 (SeparableConv (None, 9, 9, 728)    536536      block12_sepconv2_act[0][0]       \n",
            "__________________________________________________________________________________________________\n",
            "block12_sepconv2_bn (BatchNorma (None, 9, 9, 728)    2912        block12_sepconv2[0][0]           \n",
            "__________________________________________________________________________________________________\n",
            "block12_sepconv3_act (Activatio (None, 9, 9, 728)    0           block12_sepconv2_bn[0][0]        \n",
            "__________________________________________________________________________________________________\n",
            "block12_sepconv3 (SeparableConv (None, 9, 9, 728)    536536      block12_sepconv3_act[0][0]       \n",
            "__________________________________________________________________________________________________\n",
            "block12_sepconv3_bn (BatchNorma (None, 9, 9, 728)    2912        block12_sepconv3[0][0]           \n",
            "__________________________________________________________________________________________________\n",
            "add_11 (Add)                    (None, 9, 9, 728)    0           block12_sepconv3_bn[0][0]        \n",
            "                                                                 add_10[0][0]                     \n",
            "__________________________________________________________________________________________________\n",
            "block13_sepconv1_act (Activatio (None, 9, 9, 728)    0           add_11[0][0]                     \n",
            "__________________________________________________________________________________________________\n",
            "block13_sepconv1 (SeparableConv (None, 9, 9, 728)    536536      block13_sepconv1_act[0][0]       \n",
            "__________________________________________________________________________________________________\n",
            "block13_sepconv1_bn (BatchNorma (None, 9, 9, 728)    2912        block13_sepconv1[0][0]           \n",
            "__________________________________________________________________________________________________\n",
            "block13_sepconv2_act (Activatio (None, 9, 9, 728)    0           block13_sepconv1_bn[0][0]        \n",
            "__________________________________________________________________________________________________\n",
            "block13_sepconv2 (SeparableConv (None, 9, 9, 1024)   752024      block13_sepconv2_act[0][0]       \n",
            "__________________________________________________________________________________________________\n",
            "block13_sepconv2_bn (BatchNorma (None, 9, 9, 1024)   4096        block13_sepconv2[0][0]           \n",
            "__________________________________________________________________________________________________\n",
            "conv2d_4 (Conv2D)               (None, 5, 5, 1024)   745472      add_11[0][0]                     \n",
            "__________________________________________________________________________________________________\n",
            "block13_pool (MaxPooling2D)     (None, 5, 5, 1024)   0           block13_sepconv2_bn[0][0]        \n",
            "__________________________________________________________________________________________________\n",
            "batch_normalization_4 (BatchNor (None, 5, 5, 1024)   4096        conv2d_4[0][0]                   \n",
            "__________________________________________________________________________________________________\n",
            "add_12 (Add)                    (None, 5, 5, 1024)   0           block13_pool[0][0]               \n",
            "                                                                 batch_normalization_4[0][0]      \n",
            "__________________________________________________________________________________________________\n",
            "block14_sepconv1 (SeparableConv (None, 5, 5, 1536)   1582080     add_12[0][0]                     \n",
            "__________________________________________________________________________________________________\n",
            "block14_sepconv1_bn (BatchNorma (None, 5, 5, 1536)   6144        block14_sepconv1[0][0]           \n",
            "__________________________________________________________________________________________________\n",
            "block14_sepconv1_act (Activatio (None, 5, 5, 1536)   0           block14_sepconv1_bn[0][0]        \n",
            "__________________________________________________________________________________________________\n",
            "block14_sepconv2 (SeparableConv (None, 5, 5, 2048)   3159552     block14_sepconv1_act[0][0]       \n",
            "__________________________________________________________________________________________________\n",
            "block14_sepconv2_bn (BatchNorma (None, 5, 5, 2048)   8192        block14_sepconv2[0][0]           \n",
            "__________________________________________________________________________________________________\n",
            "block14_sepconv2_act (Activatio (None, 5, 5, 2048)   0           block14_sepconv2_bn[0][0]        \n",
            "==================================================================================================\n",
            "Total params: 20,861,480\n",
            "Trainable params: 20,806,952\n",
            "Non-trainable params: 54,528\n",
            "__________________________________________________________________________________________________\n"
          ],
          "name": "stdout"
        }
      ]
    },
    {
      "cell_type": "markdown",
      "metadata": {
        "id": "D6OBHOO9q1ou",
        "colab_type": "text"
      },
      "source": [
        "### Freeze the convolutional base"
      ]
    },
    {
      "cell_type": "code",
      "metadata": {
        "id": "UleRo4Dpq6Ld",
        "colab_type": "code",
        "colab": {}
      },
      "source": [
        "conv_base.trainable = False"
      ],
      "execution_count": 0,
      "outputs": []
    },
    {
      "cell_type": "markdown",
      "metadata": {
        "id": "Qfx6PqhPrb7Q",
        "colab_type": "text"
      },
      "source": [
        "### Concatenate the convolutional base and densely connected layers"
      ]
    },
    {
      "cell_type": "code",
      "metadata": {
        "id": "qUpmocDAO3xm",
        "colab_type": "code",
        "colab": {}
      },
      "source": [
        "from keras import layers\n",
        "from keras import models\n",
        "from keras import optimizers\n",
        "\n",
        "model = models.Sequential()\n",
        "model.add(conv_base)\n",
        "model.add(layers.Flatten())\n",
        "model.add(layers.Dense(256, activation='relu'))\n",
        "#model.add(layers.Dropout(0.1))\n",
        "model.add(layers.Dense(1, activation='sigmoid'))"
      ],
      "execution_count": 0,
      "outputs": []
    },
    {
      "cell_type": "code",
      "metadata": {
        "id": "Fh6gZSeAjF7c",
        "colab_type": "code",
        "outputId": "00ce5190-dce2-4bfb-e4f3-646f53fa8094",
        "colab": {
          "base_uri": "https://localhost:8080/",
          "height": 305
        }
      },
      "source": [
        "model.summary()"
      ],
      "execution_count": 0,
      "outputs": [
        {
          "output_type": "stream",
          "text": [
            "Model: \"sequential_1\"\n",
            "_________________________________________________________________\n",
            "Layer (type)                 Output Shape              Param #   \n",
            "=================================================================\n",
            "xception (Model)             (None, 5, 5, 2048)        20861480  \n",
            "_________________________________________________________________\n",
            "flatten_1 (Flatten)          (None, 51200)             0         \n",
            "_________________________________________________________________\n",
            "dense_1 (Dense)              (None, 256)               13107456  \n",
            "_________________________________________________________________\n",
            "dense_2 (Dense)              (None, 1)                 257       \n",
            "=================================================================\n",
            "Total params: 33,969,193\n",
            "Trainable params: 13,107,713\n",
            "Non-trainable params: 20,861,480\n",
            "_________________________________________________________________\n"
          ],
          "name": "stdout"
        }
      ]
    },
    {
      "cell_type": "markdown",
      "metadata": {
        "id": "eZjBiddhi5Qj",
        "colab_type": "text"
      },
      "source": [
        "## Train the model end to end with frozen convolutional base"
      ]
    },
    {
      "cell_type": "code",
      "metadata": {
        "id": "tfAQlC2Oi41L",
        "colab_type": "code",
        "outputId": "4194da03-c2d8-49c3-9e57-d20ac8407a0c",
        "colab": {
          "base_uri": "https://localhost:8080/",
          "height": 1000
        }
      },
      "source": [
        "from keras.preprocessing.image import ImageDataGenerator\n",
        "from keras import optimizers\n",
        "\n",
        "# data augmentation\n",
        "\n",
        "train_datagen = ImageDataGenerator(\n",
        "    rescale=1./255, \n",
        "    rotation_range=40,\n",
        "    width_shift_range=0.2,\n",
        "    height_shift_range=0.2,\n",
        "    shear_range=0.2,\n",
        "    zoom_range=0.2,\n",
        "    horizontal_flip=True,\n",
        "    fill_mode='nearest'\n",
        ")\n",
        "\n",
        "train_generator = train_datagen.flow_from_directory(\n",
        "    train_dir,\n",
        "    target_size=(150, 150),\n",
        "    batch_size=20,\n",
        "    class_mode='binary')\n",
        "\n",
        "validation_datagen = ImageDataGenerator(rescale=1./255)\n",
        "\n",
        "validation_generator = validation_datagen.flow_from_directory(\n",
        "    validation_dir,\n",
        "    target_size=(150, 150),\n",
        "    batch_size=20,\n",
        "    class_mode='binary')\n",
        "\n",
        "# compile model\n",
        "\n",
        "model.compile(\n",
        "    loss='binary_crossentropy', \n",
        "    optimizer=optimizers.RMSprop(lr=2e-5), \n",
        "    metrics=['acc'])\n",
        "\n",
        "# train\n",
        "\n",
        "history = model.fit_generator(\n",
        "    train_generator,\n",
        "    steps_per_epoch=100,\n",
        "    epochs=30,\n",
        "    validation_data=validation_generator,\n",
        "    validation_steps=50\n",
        ")"
      ],
      "execution_count": 0,
      "outputs": [
        {
          "output_type": "stream",
          "text": [
            "Found 2000 images belonging to 2 classes.\n",
            "Found 1000 images belonging to 2 classes.\n",
            "Epoch 1/30\n",
            "100/100 [==============================] - 26s 264ms/step - loss: 0.4637 - acc: 0.7755 - val_loss: 0.0111 - val_acc: 0.9640\n",
            "Epoch 2/30\n",
            "100/100 [==============================] - 18s 179ms/step - loss: 0.3688 - acc: 0.8200 - val_loss: 0.2293 - val_acc: 0.9300\n",
            "Epoch 3/30\n",
            "100/100 [==============================] - 18s 181ms/step - loss: 0.3690 - acc: 0.8320 - val_loss: 0.0328 - val_acc: 0.9660\n",
            "Epoch 4/30\n",
            "100/100 [==============================] - 18s 179ms/step - loss: 0.3476 - acc: 0.8455 - val_loss: 0.4449 - val_acc: 0.9490\n",
            "Epoch 5/30\n",
            "100/100 [==============================] - 18s 179ms/step - loss: 0.3417 - acc: 0.8405 - val_loss: 0.7573 - val_acc: 0.9660\n",
            "Epoch 6/30\n",
            "100/100 [==============================] - 18s 178ms/step - loss: 0.3205 - acc: 0.8540 - val_loss: 0.3621 - val_acc: 0.9660\n",
            "Epoch 7/30\n",
            "100/100 [==============================] - 18s 179ms/step - loss: 0.3102 - acc: 0.8715 - val_loss: 0.1937 - val_acc: 0.9660\n",
            "Epoch 8/30\n",
            "100/100 [==============================] - 18s 182ms/step - loss: 0.3039 - acc: 0.8535 - val_loss: 0.3260 - val_acc: 0.9660\n",
            "Epoch 9/30\n",
            "100/100 [==============================] - 18s 178ms/step - loss: 0.3129 - acc: 0.8570 - val_loss: 0.0047 - val_acc: 0.9650\n",
            "Epoch 10/30\n",
            "100/100 [==============================] - 18s 178ms/step - loss: 0.3081 - acc: 0.8505 - val_loss: 1.9302e-05 - val_acc: 0.9710\n",
            "Epoch 11/30\n",
            "100/100 [==============================] - 18s 176ms/step - loss: 0.3056 - acc: 0.8665 - val_loss: 0.0363 - val_acc: 0.9750\n",
            "Epoch 12/30\n",
            "100/100 [==============================] - 18s 180ms/step - loss: 0.2837 - acc: 0.8705 - val_loss: 0.0067 - val_acc: 0.9630\n",
            "Epoch 13/30\n",
            "100/100 [==============================] - 18s 177ms/step - loss: 0.2766 - acc: 0.8800 - val_loss: 0.0053 - val_acc: 0.9740\n",
            "Epoch 14/30\n",
            "100/100 [==============================] - 18s 178ms/step - loss: 0.2686 - acc: 0.8850 - val_loss: 0.0134 - val_acc: 0.9720\n",
            "Epoch 15/30\n",
            "100/100 [==============================] - 18s 179ms/step - loss: 0.2850 - acc: 0.8815 - val_loss: 0.0240 - val_acc: 0.9690\n",
            "Epoch 16/30\n",
            "100/100 [==============================] - 17s 173ms/step - loss: 0.2948 - acc: 0.8585 - val_loss: 2.2682e-04 - val_acc: 0.9680\n",
            "Epoch 17/30\n",
            "100/100 [==============================] - 18s 175ms/step - loss: 0.2770 - acc: 0.8790 - val_loss: 0.0139 - val_acc: 0.9710\n",
            "Epoch 18/30\n",
            "100/100 [==============================] - 17s 174ms/step - loss: 0.2920 - acc: 0.8680 - val_loss: 4.3790e-07 - val_acc: 0.9710\n",
            "Epoch 19/30\n",
            "100/100 [==============================] - 17s 174ms/step - loss: 0.2625 - acc: 0.8920 - val_loss: 4.2470e-04 - val_acc: 0.9650\n",
            "Epoch 20/30\n",
            "100/100 [==============================] - 18s 176ms/step - loss: 0.2677 - acc: 0.8785 - val_loss: 7.5713e-04 - val_acc: 0.9680\n",
            "Epoch 21/30\n",
            "100/100 [==============================] - 17s 175ms/step - loss: 0.2786 - acc: 0.8770 - val_loss: 0.0046 - val_acc: 0.9730\n",
            "Epoch 22/30\n",
            "100/100 [==============================] - 18s 176ms/step - loss: 0.2952 - acc: 0.8705 - val_loss: 0.0050 - val_acc: 0.9680\n",
            "Epoch 23/30\n",
            "100/100 [==============================] - 17s 172ms/step - loss: 0.2665 - acc: 0.8890 - val_loss: 4.1313e-06 - val_acc: 0.9690\n",
            "Epoch 24/30\n",
            "100/100 [==============================] - 17s 173ms/step - loss: 0.2691 - acc: 0.8830 - val_loss: 0.5685 - val_acc: 0.9690\n",
            "Epoch 25/30\n",
            "100/100 [==============================] - 17s 173ms/step - loss: 0.2853 - acc: 0.8840 - val_loss: 5.7579e-07 - val_acc: 0.9710\n",
            "Epoch 26/30\n",
            "100/100 [==============================] - 18s 175ms/step - loss: 0.2972 - acc: 0.8735 - val_loss: 0.5742 - val_acc: 0.9680\n",
            "Epoch 27/30\n",
            "100/100 [==============================] - 17s 174ms/step - loss: 0.2561 - acc: 0.8935 - val_loss: 0.9431 - val_acc: 0.9720\n",
            "Epoch 28/30\n",
            "100/100 [==============================] - 18s 175ms/step - loss: 0.2653 - acc: 0.8915 - val_loss: 0.0651 - val_acc: 0.9710\n",
            "Epoch 29/30\n",
            "100/100 [==============================] - 17s 174ms/step - loss: 0.2924 - acc: 0.8785 - val_loss: 6.6244e-04 - val_acc: 0.9690\n",
            "Epoch 30/30\n",
            "100/100 [==============================] - 17s 172ms/step - loss: 0.2391 - acc: 0.8945 - val_loss: 0.5981 - val_acc: 0.9670\n"
          ],
          "name": "stdout"
        }
      ]
    },
    {
      "cell_type": "markdown",
      "metadata": {
        "id": "xqRc_vHKc92U",
        "colab_type": "text"
      },
      "source": [
        "## Display curves of loss and accuracy during training"
      ]
    },
    {
      "cell_type": "code",
      "metadata": {
        "id": "ybWwdzz9bwuQ",
        "colab_type": "code",
        "outputId": "755ab969-cc2e-4744-ed9e-db1e3af95d6d",
        "colab": {
          "base_uri": "https://localhost:8080/",
          "height": 545
        }
      },
      "source": [
        "%matplotlib inline\n",
        "\n",
        "import matplotlib.pyplot as plt\n",
        "\n",
        "acc = history.history['acc']\n",
        "val_acc = history.history['val_acc']\n",
        "\n",
        "loss = history.history['loss']\n",
        "val_loss = history.history['val_loss']\n",
        "\n",
        "epochs = range(1, len(acc) + 1)\n",
        "\n",
        "# training and validation accuracy\n",
        "\n",
        "plt.plot(epochs, acc, 'bo', label='training acc')\n",
        "plt.plot(epochs, val_acc, 'b', label='validation acc')\n",
        "plt.title('training and validation accuracy')\n",
        "plt.legend()\n",
        "\n",
        "plt.figure()\n",
        "\n",
        "# training and validation loss\n",
        "\n",
        "plt.plot(epochs, loss, 'bo', label='training loss')\n",
        "plt.plot(epochs, val_loss, 'b', label='validation loss')\n",
        "plt.title('training and validation loss')\n",
        "plt.legend()\n",
        "\n",
        "plt.show()"
      ],
      "execution_count": 0,
      "outputs": [
        {
          "output_type": "display_data",
          "data": {
            "image/png": "[encoded data removed]",
            "text/plain": [
              "<Figure size 432x288 with 1 Axes>"
            ]
          },
          "metadata": {
            "tags": [],
            "needs_background": "light"
          }
        },
        {
          "output_type": "display_data",
          "data": {
            "image/png": "[encoded data removed]",
            "text/plain": [
              "<Figure size 432x288 with 1 Axes>"
            ]
          },
          "metadata": {
            "tags": [],
            "needs_background": "light"
          }
        }
      ]
    },
    {
      "cell_type": "markdown",
      "metadata": {
        "id": "lOWsxpey8lN0",
        "colab_type": "text"
      },
      "source": [
        "## Fine-tuning"
      ]
    },
    {
      "cell_type": "code",
      "metadata": {
        "id": "PwkVMx8N8qMw",
        "colab_type": "code",
        "colab": {}
      },
      "source": [
        "conv_base.trainable = True\n",
        "\n",
        "set_trainable = False\n",
        "for layer in conv_base.layers:\n",
        "  if layer.name == 'conv2d_4':\n",
        "    set_trainable = True\n",
        "  if set_trainable:\n",
        "    layer.trainable = True\n",
        "  else:\n",
        "    layer.trainable = False"
      ],
      "execution_count": 0,
      "outputs": []
    },
    {
      "cell_type": "code",
      "metadata": {
        "id": "DyN-J7rs9cvo",
        "colab_type": "code",
        "outputId": "e80bb2e1-4059-429b-ccf3-da1182fd2409",
        "colab": {
          "base_uri": "https://localhost:8080/",
          "height": 1000
        }
      },
      "source": [
        "# compile model\n",
        "\n",
        "model.compile(\n",
        "    loss='binary_crossentropy',\n",
        "    #\n",
        "    # choose a smaller learning rate\n",
        "    #\n",
        "    optimizer=optimizers.RMSprop(lr=1e-5), \n",
        "    metrics=['acc'])\n",
        "\n",
        "# train\n",
        "\n",
        "history = model.fit_generator(\n",
        "    train_generator,\n",
        "    steps_per_epoch=100,\n",
        "    epochs=100,\n",
        "    validation_data=validation_generator,\n",
        "    validation_steps=50)"
      ],
      "execution_count": 0,
      "outputs": [
        {
          "output_type": "stream",
          "text": [
            "Epoch 1/100\n",
            "100/100 [==============================] - 21s 214ms/step - loss: 0.2351 - acc: 0.9040 - val_loss: 0.4508 - val_acc: 0.9530\n",
            "Epoch 2/100\n",
            "100/100 [==============================] - 18s 183ms/step - loss: 0.2407 - acc: 0.9000 - val_loss: 0.1435 - val_acc: 0.9430\n",
            "Epoch 3/100\n",
            "100/100 [==============================] - 18s 179ms/step - loss: 0.2156 - acc: 0.9085 - val_loss: 0.0597 - val_acc: 0.9320\n",
            "Epoch 4/100\n",
            "100/100 [==============================] - 18s 180ms/step - loss: 0.2465 - acc: 0.9005 - val_loss: 0.3010 - val_acc: 0.9380\n",
            "Epoch 5/100\n",
            "100/100 [==============================] - 18s 182ms/step - loss: 0.2274 - acc: 0.9055 - val_loss: 0.0501 - val_acc: 0.9310\n",
            "Epoch 6/100\n",
            "100/100 [==============================] - 18s 179ms/step - loss: 0.2232 - acc: 0.9060 - val_loss: 0.0090 - val_acc: 0.9360\n",
            "Epoch 7/100\n",
            "100/100 [==============================] - 18s 179ms/step - loss: 0.2280 - acc: 0.9070 - val_loss: 0.2500 - val_acc: 0.9200\n",
            "Epoch 8/100\n",
            "100/100 [==============================] - 18s 180ms/step - loss: 0.2031 - acc: 0.9175 - val_loss: 0.1048 - val_acc: 0.9260\n",
            "Epoch 9/100\n",
            "100/100 [==============================] - 18s 179ms/step - loss: 0.2259 - acc: 0.9070 - val_loss: 0.3273 - val_acc: 0.9290\n",
            "Epoch 10/100\n",
            "100/100 [==============================] - 18s 180ms/step - loss: 0.2070 - acc: 0.9175 - val_loss: 0.1739 - val_acc: 0.9370\n",
            "Epoch 11/100\n",
            "100/100 [==============================] - 18s 178ms/step - loss: 0.2113 - acc: 0.9115 - val_loss: 0.1357 - val_acc: 0.9320\n",
            "Epoch 12/100\n",
            "100/100 [==============================] - 18s 180ms/step - loss: 0.2125 - acc: 0.9110 - val_loss: 0.6407 - val_acc: 0.9280\n",
            "Epoch 13/100\n",
            "100/100 [==============================] - 18s 179ms/step - loss: 0.1927 - acc: 0.9230 - val_loss: 0.0605 - val_acc: 0.9390\n",
            "Epoch 14/100\n",
            "100/100 [==============================] - 18s 180ms/step - loss: 0.2090 - acc: 0.9090 - val_loss: 0.1026 - val_acc: 0.9290\n",
            "Epoch 15/100\n",
            "100/100 [==============================] - 18s 180ms/step - loss: 0.1800 - acc: 0.9290 - val_loss: 0.0154 - val_acc: 0.9350\n",
            "Epoch 16/100\n",
            "100/100 [==============================] - 18s 176ms/step - loss: 0.1971 - acc: 0.9195 - val_loss: 0.3149 - val_acc: 0.9330\n",
            "Epoch 17/100\n",
            "100/100 [==============================] - 18s 180ms/step - loss: 0.2110 - acc: 0.9220 - val_loss: 0.0872 - val_acc: 0.9340\n",
            "Epoch 18/100\n",
            "100/100 [==============================] - 18s 179ms/step - loss: 0.1862 - acc: 0.9285 - val_loss: 0.1177 - val_acc: 0.9280\n",
            "Epoch 19/100\n",
            "100/100 [==============================] - 18s 180ms/step - loss: 0.1992 - acc: 0.9205 - val_loss: 0.1830 - val_acc: 0.9360\n",
            "Epoch 20/100\n",
            "100/100 [==============================] - 18s 179ms/step - loss: 0.2023 - acc: 0.9240 - val_loss: 0.3503 - val_acc: 0.9330\n",
            "Epoch 21/100\n",
            "100/100 [==============================] - 18s 179ms/step - loss: 0.1879 - acc: 0.9300 - val_loss: 0.0717 - val_acc: 0.9340\n",
            "Epoch 22/100\n",
            "100/100 [==============================] - 18s 181ms/step - loss: 0.2059 - acc: 0.9155 - val_loss: 0.2163 - val_acc: 0.9300\n",
            "Epoch 23/100\n",
            "100/100 [==============================] - 18s 178ms/step - loss: 0.1698 - acc: 0.9215 - val_loss: 0.0759 - val_acc: 0.9140\n",
            "Epoch 24/100\n",
            "100/100 [==============================] - 18s 180ms/step - loss: 0.1786 - acc: 0.9290 - val_loss: 0.0396 - val_acc: 0.9220\n",
            "Epoch 25/100\n",
            "100/100 [==============================] - 18s 178ms/step - loss: 0.1834 - acc: 0.9265 - val_loss: 0.1676 - val_acc: 0.9320\n",
            "Epoch 26/100\n",
            "100/100 [==============================] - 18s 178ms/step - loss: 0.2004 - acc: 0.9220 - val_loss: 0.2236 - val_acc: 0.9290\n",
            "Epoch 27/100\n",
            "100/100 [==============================] - 18s 179ms/step - loss: 0.1802 - acc: 0.9240 - val_loss: 0.2180 - val_acc: 0.9390\n",
            "Epoch 28/100\n",
            "100/100 [==============================] - 18s 179ms/step - loss: 0.1885 - acc: 0.9255 - val_loss: 0.3153 - val_acc: 0.9280\n",
            "Epoch 29/100\n",
            "100/100 [==============================] - 18s 179ms/step - loss: 0.1464 - acc: 0.9410 - val_loss: 0.0804 - val_acc: 0.9310\n",
            "Epoch 30/100\n",
            "100/100 [==============================] - 18s 178ms/step - loss: 0.1808 - acc: 0.9375 - val_loss: 0.1906 - val_acc: 0.9330\n",
            "Epoch 31/100\n",
            "100/100 [==============================] - 18s 178ms/step - loss: 0.1664 - acc: 0.9350 - val_loss: 0.2168 - val_acc: 0.9290\n",
            "Epoch 32/100\n",
            "100/100 [==============================] - 18s 182ms/step - loss: 0.1547 - acc: 0.9375 - val_loss: 0.1429 - val_acc: 0.9370\n",
            "Epoch 33/100\n",
            "100/100 [==============================] - 18s 179ms/step - loss: 0.1575 - acc: 0.9380 - val_loss: 0.0071 - val_acc: 0.9360\n",
            "Epoch 34/100\n",
            "100/100 [==============================] - 18s 177ms/step - loss: 0.1565 - acc: 0.9350 - val_loss: 0.3981 - val_acc: 0.9290\n",
            "Epoch 35/100\n",
            "100/100 [==============================] - 18s 180ms/step - loss: 0.1551 - acc: 0.9430 - val_loss: 0.2396 - val_acc: 0.9380\n",
            "Epoch 36/100\n",
            "100/100 [==============================] - 18s 179ms/step - loss: 0.1531 - acc: 0.9385 - val_loss: 0.8615 - val_acc: 0.9420\n",
            "Epoch 37/100\n",
            "100/100 [==============================] - 18s 179ms/step - loss: 0.1432 - acc: 0.9405 - val_loss: 0.1054 - val_acc: 0.9330\n",
            "Epoch 38/100\n",
            "100/100 [==============================] - 18s 179ms/step - loss: 0.1573 - acc: 0.9410 - val_loss: 0.0602 - val_acc: 0.9400\n",
            "Epoch 39/100\n",
            "100/100 [==============================] - 18s 178ms/step - loss: 0.1432 - acc: 0.9420 - val_loss: 0.1065 - val_acc: 0.9350\n",
            "Epoch 40/100\n",
            "100/100 [==============================] - 18s 178ms/step - loss: 0.1529 - acc: 0.9400 - val_loss: 0.0803 - val_acc: 0.9370\n",
            "Epoch 41/100\n",
            "100/100 [==============================] - 18s 178ms/step - loss: 0.1507 - acc: 0.9425 - val_loss: 0.1730 - val_acc: 0.9370\n",
            "Epoch 42/100\n",
            "100/100 [==============================] - 18s 180ms/step - loss: 0.1552 - acc: 0.9440 - val_loss: 0.1120 - val_acc: 0.9250\n",
            "Epoch 43/100\n",
            "100/100 [==============================] - 18s 178ms/step - loss: 0.1487 - acc: 0.9360 - val_loss: 0.0709 - val_acc: 0.9390\n",
            "Epoch 44/100\n",
            "100/100 [==============================] - 18s 176ms/step - loss: 0.1425 - acc: 0.9435 - val_loss: 0.0573 - val_acc: 0.9400\n",
            "Epoch 45/100\n",
            "100/100 [==============================] - 18s 181ms/step - loss: 0.1552 - acc: 0.9415 - val_loss: 0.0244 - val_acc: 0.9360\n",
            "Epoch 46/100\n",
            "100/100 [==============================] - 18s 177ms/step - loss: 0.1436 - acc: 0.9480 - val_loss: 0.0447 - val_acc: 0.9410\n",
            "Epoch 47/100\n",
            "100/100 [==============================] - 18s 177ms/step - loss: 0.1361 - acc: 0.9470 - val_loss: 0.0136 - val_acc: 0.9410\n",
            "Epoch 48/100\n",
            "100/100 [==============================] - 18s 176ms/step - loss: 0.1494 - acc: 0.9410 - val_loss: 0.2123 - val_acc: 0.9330\n",
            "Epoch 49/100\n",
            "100/100 [==============================] - 18s 178ms/step - loss: 0.1450 - acc: 0.9490 - val_loss: 0.1317 - val_acc: 0.9400\n",
            "Epoch 50/100\n",
            "100/100 [==============================] - 18s 177ms/step - loss: 0.1388 - acc: 0.9475 - val_loss: 0.1080 - val_acc: 0.9380\n",
            "Epoch 51/100\n",
            "100/100 [==============================] - 18s 178ms/step - loss: 0.1487 - acc: 0.9460 - val_loss: 0.1977 - val_acc: 0.9380\n",
            "Epoch 52/100\n",
            "100/100 [==============================] - 18s 177ms/step - loss: 0.1471 - acc: 0.9425 - val_loss: 0.3817 - val_acc: 0.9340\n",
            "Epoch 53/100\n",
            "100/100 [==============================] - 18s 176ms/step - loss: 0.1511 - acc: 0.9435 - val_loss: 0.2426 - val_acc: 0.9440\n",
            "Epoch 54/100\n",
            "100/100 [==============================] - 18s 178ms/step - loss: 0.1256 - acc: 0.9545 - val_loss: 0.0596 - val_acc: 0.9380\n",
            "Epoch 55/100\n",
            "100/100 [==============================] - 18s 180ms/step - loss: 0.1432 - acc: 0.9420 - val_loss: 0.3161 - val_acc: 0.9260\n",
            "Epoch 56/100\n",
            "100/100 [==============================] - 18s 177ms/step - loss: 0.1274 - acc: 0.9535 - val_loss: 0.0390 - val_acc: 0.9350\n",
            "Epoch 57/100\n",
            "100/100 [==============================] - 18s 175ms/step - loss: 0.1315 - acc: 0.9490 - val_loss: 0.0141 - val_acc: 0.9370\n",
            "Epoch 58/100\n",
            "100/100 [==============================] - 18s 179ms/step - loss: 0.1344 - acc: 0.9530 - val_loss: 1.1630 - val_acc: 0.9390\n",
            "Epoch 59/100\n",
            "100/100 [==============================] - 19s 186ms/step - loss: 0.1218 - acc: 0.9525 - val_loss: 0.0077 - val_acc: 0.9400\n",
            "Epoch 60/100\n",
            "100/100 [==============================] - 18s 177ms/step - loss: 0.1354 - acc: 0.9500 - val_loss: 0.4671 - val_acc: 0.9370\n",
            "Epoch 61/100\n",
            "100/100 [==============================] - 18s 181ms/step - loss: 0.1288 - acc: 0.9430 - val_loss: 0.1070 - val_acc: 0.9410\n",
            "Epoch 62/100\n",
            "100/100 [==============================] - 18s 178ms/step - loss: 0.1205 - acc: 0.9555 - val_loss: 0.0824 - val_acc: 0.9280\n",
            "Epoch 63/100\n",
            "100/100 [==============================] - 18s 176ms/step - loss: 0.1499 - acc: 0.9450 - val_loss: 0.3159 - val_acc: 0.9410\n",
            "Epoch 64/100\n",
            "100/100 [==============================] - 18s 179ms/step - loss: 0.1395 - acc: 0.9450 - val_loss: 0.0969 - val_acc: 0.9410\n",
            "Epoch 65/100\n",
            "100/100 [==============================] - 18s 176ms/step - loss: 0.1146 - acc: 0.9555 - val_loss: 0.0172 - val_acc: 0.9350\n",
            "Epoch 66/100\n",
            "100/100 [==============================] - 18s 176ms/step - loss: 0.1446 - acc: 0.9420 - val_loss: 0.1128 - val_acc: 0.9390\n",
            "Epoch 67/100\n",
            "100/100 [==============================] - 18s 176ms/step - loss: 0.1215 - acc: 0.9560 - val_loss: 0.3092 - val_acc: 0.9440\n",
            "Epoch 68/100\n",
            "100/100 [==============================] - 18s 178ms/step - loss: 0.1269 - acc: 0.9515 - val_loss: 0.2237 - val_acc: 0.9420\n",
            "Epoch 69/100\n",
            "100/100 [==============================] - 18s 176ms/step - loss: 0.1189 - acc: 0.9535 - val_loss: 0.4136 - val_acc: 0.9050\n",
            "Epoch 70/100\n",
            "100/100 [==============================] - 18s 175ms/step - loss: 0.1270 - acc: 0.9530 - val_loss: 1.0170 - val_acc: 0.9210\n",
            "Epoch 71/100\n",
            "100/100 [==============================] - 18s 176ms/step - loss: 0.1405 - acc: 0.9465 - val_loss: 0.3653 - val_acc: 0.9350\n",
            "Epoch 72/100\n",
            "100/100 [==============================] - 18s 179ms/step - loss: 0.1253 - acc: 0.9510 - val_loss: 0.2341 - val_acc: 0.9410\n",
            "Epoch 73/100\n",
            "100/100 [==============================] - 18s 176ms/step - loss: 0.1275 - acc: 0.9530 - val_loss: 0.6907 - val_acc: 0.9390\n",
            "Epoch 74/100\n",
            "100/100 [==============================] - 18s 176ms/step - loss: 0.1063 - acc: 0.9525 - val_loss: 0.0983 - val_acc: 0.9330\n",
            "Epoch 75/100\n",
            "100/100 [==============================] - 18s 176ms/step - loss: 0.1143 - acc: 0.9565 - val_loss: 0.1196 - val_acc: 0.9420\n",
            "Epoch 76/100\n",
            "100/100 [==============================] - 18s 178ms/step - loss: 0.1212 - acc: 0.9530 - val_loss: 0.0035 - val_acc: 0.9300\n",
            "Epoch 77/100\n",
            "100/100 [==============================] - 18s 177ms/step - loss: 0.1071 - acc: 0.9590 - val_loss: 0.2214 - val_acc: 0.9320\n",
            "Epoch 78/100\n",
            "100/100 [==============================] - 18s 178ms/step - loss: 0.1270 - acc: 0.9580 - val_loss: 0.2688 - val_acc: 0.9430\n",
            "Epoch 79/100\n",
            "100/100 [==============================] - 18s 180ms/step - loss: 0.1225 - acc: 0.9590 - val_loss: 0.1443 - val_acc: 0.9360\n",
            "Epoch 80/100\n",
            "100/100 [==============================] - 18s 176ms/step - loss: 0.1296 - acc: 0.9535 - val_loss: 0.0981 - val_acc: 0.9370\n",
            "Epoch 81/100\n",
            "100/100 [==============================] - 18s 179ms/step - loss: 0.0901 - acc: 0.9695 - val_loss: 0.0203 - val_acc: 0.9380\n",
            "Epoch 82/100\n",
            "100/100 [==============================] - 18s 184ms/step - loss: 0.0890 - acc: 0.9705 - val_loss: 0.3536 - val_acc: 0.9430\n",
            "Epoch 83/100\n",
            "100/100 [==============================] - 18s 178ms/step - loss: 0.1263 - acc: 0.9550 - val_loss: 0.0755 - val_acc: 0.9300\n",
            "Epoch 84/100\n",
            "100/100 [==============================] - 18s 178ms/step - loss: 0.1187 - acc: 0.9560 - val_loss: 0.5776 - val_acc: 0.9340\n",
            "Epoch 85/100\n",
            "100/100 [==============================] - 18s 176ms/step - loss: 0.1246 - acc: 0.9545 - val_loss: 0.4117 - val_acc: 0.9290\n",
            "Epoch 86/100\n",
            "100/100 [==============================] - 18s 178ms/step - loss: 0.1093 - acc: 0.9595 - val_loss: 0.2301 - val_acc: 0.9340\n",
            "Epoch 87/100\n",
            "100/100 [==============================] - 18s 176ms/step - loss: 0.1167 - acc: 0.9570 - val_loss: 0.8049 - val_acc: 0.9410\n",
            "Epoch 88/100\n",
            "100/100 [==============================] - 17s 175ms/step - loss: 0.1089 - acc: 0.9605 - val_loss: 0.2496 - val_acc: 0.9400\n",
            "Epoch 89/100\n",
            "100/100 [==============================] - 18s 178ms/step - loss: 0.1074 - acc: 0.9560 - val_loss: 0.0346 - val_acc: 0.9300\n",
            "Epoch 90/100\n",
            "100/100 [==============================] - 17s 175ms/step - loss: 0.1036 - acc: 0.9630 - val_loss: 0.1766 - val_acc: 0.9380\n",
            "Epoch 91/100\n",
            "100/100 [==============================] - 18s 177ms/step - loss: 0.0808 - acc: 0.9685 - val_loss: 0.2919 - val_acc: 0.9370\n",
            "Epoch 92/100\n",
            "100/100 [==============================] - 18s 176ms/step - loss: 0.1145 - acc: 0.9605 - val_loss: 0.2681 - val_acc: 0.9370\n",
            "Epoch 93/100\n",
            "100/100 [==============================] - 18s 178ms/step - loss: 0.1149 - acc: 0.9560 - val_loss: 0.2333 - val_acc: 0.9390\n",
            "Epoch 94/100\n",
            "100/100 [==============================] - 18s 176ms/step - loss: 0.1061 - acc: 0.9610 - val_loss: 0.1423 - val_acc: 0.9360\n",
            "Epoch 95/100\n",
            "100/100 [==============================] - 18s 176ms/step - loss: 0.1012 - acc: 0.9630 - val_loss: 0.3303 - val_acc: 0.9370\n",
            "Epoch 96/100\n",
            "100/100 [==============================] - 18s 178ms/step - loss: 0.1064 - acc: 0.9625 - val_loss: 0.0270 - val_acc: 0.9290\n",
            "Epoch 97/100\n",
            "100/100 [==============================] - 17s 175ms/step - loss: 0.0930 - acc: 0.9655 - val_loss: 0.4305 - val_acc: 0.9430\n",
            "Epoch 98/100\n",
            "100/100 [==============================] - 18s 176ms/step - loss: 0.1004 - acc: 0.9610 - val_loss: 0.4419 - val_acc: 0.9380\n",
            "Epoch 99/100\n",
            "100/100 [==============================] - 18s 176ms/step - loss: 0.1074 - acc: 0.9565 - val_loss: 0.0280 - val_acc: 0.9470\n",
            "Epoch 100/100\n",
            "100/100 [==============================] - 18s 177ms/step - loss: 0.0990 - acc: 0.9650 - val_loss: 0.0875 - val_acc: 0.9420\n"
          ],
          "name": "stdout"
        }
      ]
    },
    {
      "cell_type": "markdown",
      "metadata": {
        "id": "eVBQgh5M-Rtz",
        "colab_type": "text"
      },
      "source": [
        "## Display learning curves during fine-tuning"
      ]
    },
    {
      "cell_type": "code",
      "metadata": {
        "id": "mbkIw7Ie-NP4",
        "colab_type": "code",
        "outputId": "e77402e6-6d68-4f03-fac4-9eb37a505f83",
        "colab": {
          "base_uri": "https://localhost:8080/",
          "height": 545
        }
      },
      "source": [
        "%matplotlib inline\n",
        "\n",
        "import matplotlib.pyplot as plt\n",
        "\n",
        "acc = history.history['acc']\n",
        "val_acc = history.history['val_acc']\n",
        "\n",
        "loss = history.history['loss']\n",
        "val_loss = history.history['val_loss']\n",
        "\n",
        "epochs = range(1, len(acc) + 1)\n",
        "\n",
        "# training and validation accuracy\n",
        "\n",
        "plt.plot(epochs, acc, 'bo', label='training acc')\n",
        "plt.plot(epochs, val_acc, 'b', label='validation acc')\n",
        "plt.title('training and validation accuracy')\n",
        "plt.legend()\n",
        "\n",
        "plt.figure()\n",
        "\n",
        "# training and validation loss\n",
        "\n",
        "plt.plot(epochs, loss, 'bo', label='training loss')\n",
        "plt.plot(epochs, val_loss, 'b', label='validation loss')\n",
        "plt.title('training and validation loss')\n",
        "plt.legend()\n",
        "\n",
        "plt.show()"
      ],
      "execution_count": 0,
      "outputs": [
        {
          "output_type": "display_data",
          "data": {
            "image/png": "[encoded data removed]",
            "text/plain": [
              "<Figure size 432x288 with 1 Axes>"
            ]
          },
          "metadata": {
            "tags": [],
            "needs_background": "light"
          }
        },
        {
          "output_type": "display_data",
          "data": {
            "image/png": "[encoded data removed]",
            "text/plain": [
              "<Figure size 432x288 with 1 Axes>"
            ]
          },
          "metadata": {
            "tags": [],
            "needs_background": "light"
          }
        }
      ]
    },
    {
      "cell_type": "markdown",
      "metadata": {
        "id": "obQi6N4ZShdi",
        "colab_type": "text"
      },
      "source": [
        "This looks like overfitting. I should try  adding dropout for the densely connected layer."
      ]
    },
    {
      "cell_type": "markdown",
      "metadata": {
        "id": "he3Nw6TOJwjx",
        "colab_type": "text"
      },
      "source": [
        "## Print out validation loss and accuracy"
      ]
    },
    {
      "cell_type": "code",
      "metadata": {
        "id": "SVQtrk7uJdhl",
        "colab_type": "code",
        "colab": {}
      },
      "source": [
        "val_loss, val_acc = model.evaluate_generator(validation_generator, steps=50)"
      ],
      "execution_count": 0,
      "outputs": []
    },
    {
      "cell_type": "code",
      "metadata": {
        "id": "HpdddLi1SUMe",
        "colab_type": "code",
        "outputId": "03b50f7f-5255-46bc-d7ec-e6c288fd6c15",
        "colab": {
          "base_uri": "https://localhost:8080/",
          "height": 53
        }
      },
      "source": [
        "print(\"Validation loss:\", val_loss)\n",
        "print(\"Validation accuracy:\", val_acc)"
      ],
      "execution_count": 0,
      "outputs": [
        {
          "output_type": "stream",
          "text": [
            "Validation loss: 0.08753348141908646\n",
            "Validation accuracy: 0.9419999718666077\n"
          ],
          "name": "stdout"
        }
      ]
    },
    {
      "cell_type": "markdown",
      "metadata": {
        "id": "7Ww756WToby8",
        "colab_type": "text"
      },
      "source": [
        "## Save the model"
      ]
    },
    {
      "cell_type": "code",
      "metadata": {
        "id": "0lTUpUdwobKW",
        "colab_type": "code",
        "colab": {}
      },
      "source": [
        "model_fname = 'cats_and_dogs_small_4.h5' \n",
        "model.save(model_fname)"
      ],
      "execution_count": 0,
      "outputs": []
    },
    {
      "cell_type": "code",
      "metadata": {
        "id": "YhEoI8ZTok-X",
        "colab_type": "code",
        "outputId": "c4de56f4-7ec1-47cf-b139-51c38767bebb",
        "colab": {
          "base_uri": "https://localhost:8080/",
          "height": 805
        }
      },
      "source": [
        "from google.colab import files\n",
        "\n",
        "with open(model_fname, 'r') as f:\n",
        "  files.download(model_fname)"
      ],
      "execution_count": 0,
      "outputs": [
        {
          "output_type": "stream",
          "text": [
            "----------------------------------------\n",
            "Exception happened during processing of request from ('::ffff:127.0.0.1', 56062, 0, 0)\n",
            "Traceback (most recent call last):\n",
            "  File \"/usr/lib/python3.6/socketserver.py\", line 320, in _handle_request_noblock\n",
            "    self.process_request(request, client_address)\n",
            "  File \"/usr/lib/python3.6/socketserver.py\", line 351, in process_request\n",
            "    self.finish_request(request, client_address)\n",
            "  File \"/usr/lib/python3.6/socketserver.py\", line 364, in finish_request\n",
            "    self.RequestHandlerClass(request, client_address, self)\n",
            "  File \"/usr/lib/python3.6/socketserver.py\", line 724, in __init__\n",
            "    self.handle()\n",
            "  File \"/usr/lib/python3.6/http/server.py\", line 418, in handle\n",
            "    self.handle_one_request()\n",
            "  File \"/usr/lib/python3.6/http/server.py\", line 406, in handle_one_request\n",
            "    method()\n",
            "  File \"/usr/lib/python3.6/http/server.py\", line 639, in do_GET\n",
            "    self.copyfile(f, self.wfile)\n",
            "  File \"/usr/lib/python3.6/http/server.py\", line 800, in copyfile\n",
            "    shutil.copyfileobj(source, outputfile)\n",
            "  File \"/usr/lib/python3.6/shutil.py\", line 82, in copyfileobj\n",
            "    fdst.write(buf)\n",
            "  File \"/usr/lib/python3.6/socketserver.py\", line 803, in write\n",
            "    self._sock.sendall(b)\n",
            "ConnectionResetError: [Errno 104] Connection reset by peer\n",
            "----------------------------------------\n"
          ],
          "name": "stderr"
        },
        {
          "output_type": "error",
          "ename": "KeyboardInterrupt",
          "evalue": "ignored",
          "traceback": [
            "\u001b[0;31m---------------------------------------------------------------------------\u001b[0m",
            "\u001b[0;31mKeyboardInterrupt\u001b[0m                         Traceback (most recent call last)",
            "\u001b[0;32m<ipython-input-19-9a4221e8fa3a>\u001b[0m in \u001b[0;36m<module>\u001b[0;34m()\u001b[0m\n\u001b[1;32m      2\u001b[0m \u001b[0;34m\u001b[0m\u001b[0m\n\u001b[1;32m      3\u001b[0m \u001b[0;32mwith\u001b[0m \u001b[0mopen\u001b[0m\u001b[0;34m(\u001b[0m\u001b[0mmodel_fname\u001b[0m\u001b[0;34m,\u001b[0m \u001b[0;34m'r'\u001b[0m\u001b[0;34m)\u001b[0m \u001b[0;32mas\u001b[0m \u001b[0mf\u001b[0m\u001b[0;34m:\u001b[0m\u001b[0;34m\u001b[0m\u001b[0;34m\u001b[0m\u001b[0m\n\u001b[0;32m----> 4\u001b[0;31m   \u001b[0mfiles\u001b[0m\u001b[0;34m.\u001b[0m\u001b[0mdownload\u001b[0m\u001b[0;34m(\u001b[0m\u001b[0mmodel_fname\u001b[0m\u001b[0;34m)\u001b[0m\u001b[0;34m\u001b[0m\u001b[0;34m\u001b[0m\u001b[0m\n\u001b[0m",
            "\u001b[0;32m/usr/local/lib/python3.6/dist-packages/google/colab/files.py\u001b[0m in \u001b[0;36mdownload\u001b[0;34m(filename)\u001b[0m\n\u001b[1;32m    176\u001b[0m       \u001b[0;34m'port'\u001b[0m\u001b[0;34m:\u001b[0m \u001b[0mport\u001b[0m\u001b[0;34m,\u001b[0m\u001b[0;34m\u001b[0m\u001b[0;34m\u001b[0m\u001b[0m\n\u001b[1;32m    177\u001b[0m       \u001b[0;34m'path'\u001b[0m\u001b[0;34m:\u001b[0m \u001b[0m_os\u001b[0m\u001b[0;34m.\u001b[0m\u001b[0mpath\u001b[0m\u001b[0;34m.\u001b[0m\u001b[0mabspath\u001b[0m\u001b[0;34m(\u001b[0m\u001b[0mfilename\u001b[0m\u001b[0;34m)\u001b[0m\u001b[0;34m,\u001b[0m\u001b[0;34m\u001b[0m\u001b[0;34m\u001b[0m\u001b[0m\n\u001b[0;32m--> 178\u001b[0;31m       \u001b[0;34m'name'\u001b[0m\u001b[0;34m:\u001b[0m \u001b[0m_os\u001b[0m\u001b[0;34m.\u001b[0m\u001b[0mpath\u001b[0m\u001b[0;34m.\u001b[0m\u001b[0mbasename\u001b[0m\u001b[0;34m(\u001b[0m\u001b[0mfilename\u001b[0m\u001b[0;34m)\u001b[0m\u001b[0;34m,\u001b[0m\u001b[0;34m\u001b[0m\u001b[0;34m\u001b[0m\u001b[0m\n\u001b[0m\u001b[1;32m    179\u001b[0m   })\n",
            "\u001b[0;32m/usr/local/lib/python3.6/dist-packages/google/colab/output/_js.py\u001b[0m in \u001b[0;36meval_js\u001b[0;34m(script, ignore_result)\u001b[0m\n\u001b[1;32m     37\u001b[0m   \u001b[0;32mif\u001b[0m \u001b[0mignore_result\u001b[0m\u001b[0;34m:\u001b[0m\u001b[0;34m\u001b[0m\u001b[0;34m\u001b[0m\u001b[0m\n\u001b[1;32m     38\u001b[0m     \u001b[0;32mreturn\u001b[0m\u001b[0;34m\u001b[0m\u001b[0;34m\u001b[0m\u001b[0m\n\u001b[0;32m---> 39\u001b[0;31m   \u001b[0;32mreturn\u001b[0m \u001b[0m_message\u001b[0m\u001b[0;34m.\u001b[0m\u001b[0mread_reply_from_input\u001b[0m\u001b[0;34m(\u001b[0m\u001b[0mrequest_id\u001b[0m\u001b[0;34m)\u001b[0m\u001b[0;34m\u001b[0m\u001b[0;34m\u001b[0m\u001b[0m\n\u001b[0m\u001b[1;32m     40\u001b[0m \u001b[0;34m\u001b[0m\u001b[0m\n\u001b[1;32m     41\u001b[0m \u001b[0;34m\u001b[0m\u001b[0m\n",
            "\u001b[0;32m/usr/local/lib/python3.6/dist-packages/google/colab/_message.py\u001b[0m in \u001b[0;36mread_reply_from_input\u001b[0;34m(message_id, timeout_sec)\u001b[0m\n\u001b[1;32m     99\u001b[0m     \u001b[0mreply\u001b[0m \u001b[0;34m=\u001b[0m \u001b[0m_read_next_input_message\u001b[0m\u001b[0;34m(\u001b[0m\u001b[0;34m)\u001b[0m\u001b[0;34m\u001b[0m\u001b[0;34m\u001b[0m\u001b[0m\n\u001b[1;32m    100\u001b[0m     \u001b[0;32mif\u001b[0m \u001b[0mreply\u001b[0m \u001b[0;34m==\u001b[0m \u001b[0m_NOT_READY\u001b[0m \u001b[0;32mor\u001b[0m \u001b[0;32mnot\u001b[0m \u001b[0misinstance\u001b[0m\u001b[0;34m(\u001b[0m\u001b[0mreply\u001b[0m\u001b[0;34m,\u001b[0m \u001b[0mdict\u001b[0m\u001b[0;34m)\u001b[0m\u001b[0;34m:\u001b[0m\u001b[0;34m\u001b[0m\u001b[0;34m\u001b[0m\u001b[0m\n\u001b[0;32m--> 101\u001b[0;31m       \u001b[0mtime\u001b[0m\u001b[0;34m.\u001b[0m\u001b[0msleep\u001b[0m\u001b[0;34m(\u001b[0m\u001b[0;36m0.025\u001b[0m\u001b[0;34m)\u001b[0m\u001b[0;34m\u001b[0m\u001b[0;34m\u001b[0m\u001b[0m\n\u001b[0m\u001b[1;32m    102\u001b[0m       \u001b[0;32mcontinue\u001b[0m\u001b[0;34m\u001b[0m\u001b[0;34m\u001b[0m\u001b[0m\n\u001b[1;32m    103\u001b[0m     if (reply.get('type') == 'colab_reply' and\n",
            "\u001b[0;31mKeyboardInterrupt\u001b[0m: "
          ]
        }
      ]
    },
    {
      "cell_type": "code",
      "metadata": {
        "id": "VNEL4CCcS0Oj",
        "colab_type": "code",
        "colab": {}
      },
      "source": [
        ""
      ],
      "execution_count": 0,
      "outputs": []
    }
  ]
}