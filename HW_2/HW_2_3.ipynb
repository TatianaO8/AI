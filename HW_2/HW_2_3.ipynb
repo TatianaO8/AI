{
  "nbformat": 4,
  "nbformat_minor": 0,
  "metadata": {
    "colab": {
      "name": "HW_2_3.ipynb",
      "provenance": [],
      "collapsed_sections": [],
      "authorship_tag": "ABX9TyN1f7gHqVnMBeLlbUmlPSkn",
      "include_colab_link": true
    },
    "kernelspec": {
      "name": "python3",
      "display_name": "Python 3"
    }
  },
  "cells": [
    {
      "cell_type": "markdown",
      "metadata": {
        "id": "view-in-github",
        "colab_type": "text"
      },
      "source": [
        "<a href=\"https://colab.research.google.com/github/TatianaO8/AI/blob/master/HW_2_3.ipynb\" target=\"_parent\"><img src=\"https://colab.research.google.com/assets/colab-badge.svg\" alt=\"Open In Colab\"/></a>"
      ]
    },
    {
      "cell_type": "markdown",
      "metadata": {
        "id": "4WOoaMaWwBoN",
        "colab_type": "text"
      },
      "source": [
        "#HW2 (Problem 3)"
      ]
    },
    {
      "cell_type": "markdown",
      "metadata": {
        "id": "CaKwSEzRUB7w",
        "colab_type": "text"
      },
      "source": [
        "Description:\n",
        "\n",
        "What does an average MNIST digit look like? For each i=0,1,...,9, compute the average of digit i and display it. More precisely, you have add all the images of the digit i together and divide it by the number of times the digit i occurs in the data set.*italicized text*"
      ]
    },
    {
      "cell_type": "code",
      "metadata": {
        "id": "T2sOEsHsv66M",
        "colab_type": "code",
        "colab": {}
      },
      "source": [
        "%tensorflow_version 2.x\n",
        "import tensorflow as tf\n",
        "import numpy as np\n",
        "\n",
        "(train_images, train_labels), (test_images, test_labels) = tf.keras.datasets.mnist.load_data()"
      ],
      "execution_count": 0,
      "outputs": []
    },
    {
      "cell_type": "markdown",
      "metadata": {
        "id": "fpiKyb4aSCmk",
        "colab_type": "text"
      },
      "source": [
        "##Find the average matrix (image) of each digit"
      ]
    },
    {
      "cell_type": "code",
      "metadata": {
        "id": "fzhxaTTajjkw",
        "colab_type": "code",
        "outputId": "7195d0fa-9f2d-4886-e076-b0afad6be99f",
        "colab": {
          "base_uri": "https://localhost:8080/",
          "height": 35
        }
      },
      "source": [
        "arrImages = [0] * 10\n",
        "arrCount = [0] * 10\n",
        "\n",
        "for n in range(10):\n",
        "  arrImages[n] = np.zeros([28,28])\n",
        "\n",
        "for n in range(len(test_labels)):\n",
        "  #print(n)\n",
        "  label = test_labels[n]\n",
        "  #print(label)\n",
        "  #print(arrImages[label])\n",
        "  #print(test_images[n])\n",
        "  arrImages[label] = np.add(arrImages[label],test_images[n])\n",
        "  arrCount[label] = arrCount[label] + 1\n",
        "\n",
        "for n in range(10):\n",
        "  arrImages[n] = arrImages[n]/arrCount[n]\n",
        "\n",
        "\n",
        "  "
      ],
      "execution_count": 0,
      "outputs": [
        {
          "output_type": "stream",
          "text": [
            "(28, 28)\n"
          ],
          "name": "stdout"
        }
      ]
    },
    {
      "cell_type": "code",
      "metadata": {
        "id": "Nz7zunYmjfWC",
        "colab_type": "code",
        "colab": {}
      },
      "source": [
        "%matplotlib inline\n",
        "import matplotlib.pyplot as plt"
      ],
      "execution_count": 0,
      "outputs": []
    },
    {
      "cell_type": "markdown",
      "metadata": {
        "id": "vV01L3U_R9Dn",
        "colab_type": "text"
      },
      "source": [
        "##Plot each average digit"
      ]
    },
    {
      "cell_type": "code",
      "metadata": {
        "id": "eQAqPdlSkGgb",
        "colab_type": "code",
        "outputId": "8f61e1cb-ef81-41d7-aef8-38d69a46372a",
        "colab": {
          "base_uri": "https://localhost:8080/",
          "height": 536
        }
      },
      "source": [
        "\n",
        "plt.figure(figsize=(9, 9))\n",
        "for n in range(9):\n",
        "    ax = plt.subplot(3, 3, n + 1)\n",
        "    plt.imshow(arrImages[n])\n",
        "    plt.title(n)\n",
        "    plt.axis('off')"
      ],
      "execution_count": 0,
      "outputs": [
        {
          "output_type": "display_data",
          "data": {
            "image/png": "[encoded data removed]",
            "text/plain": [
              "<Figure size 648x648 with 9 Axes>"
            ]
          },
          "metadata": {
            "tags": []
          }
        }
      ]
    },
    {
      "cell_type": "code",
      "metadata": {
        "id": "6hctgNLSjRve",
        "colab_type": "code",
        "colab": {}
      },
      "source": [
        ""
      ],
      "execution_count": 0,
      "outputs": []
    }
  ]
}